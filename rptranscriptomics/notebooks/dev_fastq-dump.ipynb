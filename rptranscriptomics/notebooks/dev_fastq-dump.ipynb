{
 "cells": [
  {
   "cell_type": "code",
   "execution_count": 1,
   "metadata": {},
   "outputs": [
    {
     "name": "stdout",
     "output_type": "stream",
     "text": [
      "Namespace(SRR_path='/Users/Adele/Desktop/move_to_repaired_Macbook/SRP073808_bulk_RNA-seq_SRR.txt', fdargs=['--split-files', '--readids', '--gzip', '--skip-technical', '--minSpotId', '10000', '--maxSpotId', '10010000'], root_path='/Users/Adele/Desktop/mock_SRR', sbatch_account='mbarna', sbatch_email='adelexu@stanford.edu', sbatch_email_type='ALL', sbatch_mem='8G', sbatch_partition='batch', sbatch_time='24:0:0')\n"
     ]
    }
   ],
   "source": [
    "import argparse\n",
    "\n",
    "parser = argparse.ArgumentParser(description='Submit an sbatch job to fastq-dump each SRR in a file.')\n",
    "parser.add_argument(\"--root-path\")\n",
    "parser.add_argument(\"--SRR-path\")\n",
    "parser.add_argument(\"--sbatch-time\")\n",
    "parser.add_argument(\"--sbatch-mem\")\n",
    "parser.add_argument(\"--sbatch-email\")\n",
    "parser.add_argument(\"--sbatch-email-type\")\n",
    "parser.add_argument(\"--sbatch-account\")\n",
    "parser.add_argument(\"--sbatch-partition\")\n",
    "parser.add_argument(\"--fdargs\", nargs=argparse.REMAINDER)\n",
    "args = parser.parse_args(\"--root-path /Users/Adele/Desktop/mock_SRR \\\n",
    "--SRR-path /Users/Adele/Desktop/move_to_repaired_Macbook/SRP073808_bulk_RNA-seq_SRR.txt \\\n",
    "--sbatch-time 24:0:0 \\\n",
    "--sbatch-mem 8G \\\n",
    "--sbatch-email adelexu@stanford.edu \\\n",
    "--sbatch-email-type ALL \\\n",
    "--sbatch-account mbarna \\\n",
    "--sbatch-partition batch \\\n",
    "--fdargs --split-files --readids --gzip --skip-technical --minSpotId 10000 --maxSpotId 10010000\".split())\n",
    "\n",
    "print(args)"
   ]
  },
  {
   "cell_type": "code",
   "execution_count": 45,
   "metadata": {},
   "outputs": [
    {
     "name": "stdout",
     "output_type": "stream",
     "text": [
      "sbatch --job-name=SRR3439477 --output=SRR3439477.o --error=SRR3439477.e --mail-user=adelexu@stanford.edu --mail-type=ALL --time=24:0:0 --mem=8G --account=mbarna --partition=batch <<EOF \n",
      "#!/bin/sh \n",
      "module load sratoolkit/2.9.0 \n",
      "fastq-dump --split-files --readids --gzip --skip-technical --minSpotId 10000 --maxSpotId 10010000 --outdir /Users/Adele/Desktop/mock_SRR/hESC_1 SRR3439477 \n",
      "EOF\n",
      "sbatch --job-name=SRR3439478 --output=SRR3439478.o --error=SRR3439478.e --mail-user=adelexu@stanford.edu --mail-type=ALL --time=24:0:0 --mem=8G --account=mbarna --partition=batch <<EOF \n",
      "#!/bin/sh \n",
      "module load sratoolkit/2.9.0 \n",
      "fastq-dump --split-files --readids --gzip --skip-technical --minSpotId 10000 --maxSpotId 10010000 --outdir /Users/Adele/Desktop/mock_SRR/hESC_2 SRR3439478 \n",
      "EOF\n",
      "sbatch --job-name=SRR3439480 --output=SRR3439480.o --error=SRR3439480.e --mail-user=adelexu@stanford.edu --mail-type=ALL --time=24:0:0 --mem=8G --account=mbarna --partition=batch <<EOF \n",
      "#!/bin/sh \n",
      "module load sratoolkit/2.9.0 \n",
      "fastq-dump --split-files --readids --gzip --skip-technical --minSpotId 10000 --maxSpotId 10010000 --outdir /Users/Adele/Desktop/mock_SRR/hESC_3 SRR3439480 \n",
      "EOF\n",
      "sbatch --job-name=SRR3439481 --output=SRR3439481.o --error=SRR3439481.e --mail-user=adelexu@stanford.edu --mail-type=ALL --time=24:0:0 --mem=8G --account=mbarna --partition=batch <<EOF \n",
      "#!/bin/sh \n",
      "module load sratoolkit/2.9.0 \n",
      "fastq-dump --split-files --readids --gzip --skip-technical --minSpotId 10000 --maxSpotId 10010000 --outdir /Users/Adele/Desktop/mock_SRR/hESC_4 SRR3439481 \n",
      "EOF\n",
      "sbatch --job-name=SRR3439429 --output=SRR3439429.o --error=SRR3439429.e --mail-user=adelexu@stanford.edu --mail-type=ALL --time=24:0:0 --mem=8G --account=mbarna --partition=batch <<EOF \n",
      "#!/bin/sh \n",
      "module load sratoolkit/2.9.0 \n",
      "fastq-dump --split-files --readids --gzip --skip-technical --minSpotId 10000 --maxSpotId 10010000 --outdir /Users/Adele/Desktop/mock_SRR/APS_1 SRR3439429 \n",
      "EOF\n",
      "sbatch --job-name=SRR3439430 --output=SRR3439430.o --error=SRR3439430.e --mail-user=adelexu@stanford.edu --mail-type=ALL --time=24:0:0 --mem=8G --account=mbarna --partition=batch <<EOF \n",
      "#!/bin/sh \n",
      "module load sratoolkit/2.9.0 \n",
      "fastq-dump --split-files --readids --gzip --skip-technical --minSpotId 10000 --maxSpotId 10010000 --outdir /Users/Adele/Desktop/mock_SRR/APS_2 SRR3439430 \n",
      "EOF\n",
      "sbatch --job-name=SRR3439431 --output=SRR3439431.o --error=SRR3439431.e --mail-user=adelexu@stanford.edu --mail-type=ALL --time=24:0:0 --mem=8G --account=mbarna --partition=batch <<EOF \n",
      "#!/bin/sh \n",
      "module load sratoolkit/2.9.0 \n",
      "fastq-dump --split-files --readids --gzip --skip-technical --minSpotId 10000 --maxSpotId 10010000 --outdir /Users/Adele/Desktop/mock_SRR/APS_3 SRR3439431 \n",
      "EOF\n",
      "sbatch --job-name=SRR3439482 --output=SRR3439482.o --error=SRR3439482.e --mail-user=adelexu@stanford.edu --mail-type=ALL --time=24:0:0 --mem=8G --account=mbarna --partition=batch <<EOF \n",
      "#!/bin/sh \n",
      "module load sratoolkit/2.9.0 \n",
      "fastq-dump --split-files --readids --gzip --skip-technical --minSpotId 10000 --maxSpotId 10010000 --outdir /Users/Adele/Desktop/mock_SRR/MPS_1 SRR3439482 \n",
      "EOF\n",
      "sbatch --job-name=SRR3439485 --output=SRR3439485.o --error=SRR3439485.e --mail-user=adelexu@stanford.edu --mail-type=ALL --time=24:0:0 --mem=8G --account=mbarna --partition=batch <<EOF \n",
      "#!/bin/sh \n",
      "module load sratoolkit/2.9.0 \n",
      "fastq-dump --split-files --readids --gzip --skip-technical --minSpotId 10000 --maxSpotId 10010000 --outdir /Users/Adele/Desktop/mock_SRR/MPS_2 SRR3439485 \n",
      "EOF\n",
      "sbatch --job-name=SRR3439486 --output=SRR3439486.o --error=SRR3439486.e --mail-user=adelexu@stanford.edu --mail-type=ALL --time=24:0:0 --mem=8G --account=mbarna --partition=batch <<EOF \n",
      "#!/bin/sh \n",
      "module load sratoolkit/2.9.0 \n",
      "fastq-dump --split-files --readids --gzip --skip-technical --minSpotId 10000 --maxSpotId 10010000 --outdir /Users/Adele/Desktop/mock_SRR/MPS_3 SRR3439486 \n",
      "EOF\n",
      "sbatch --job-name=SRR3439487 --output=SRR3439487.o --error=SRR3439487.e --mail-user=adelexu@stanford.edu --mail-type=ALL --time=24:0:0 --mem=8G --account=mbarna --partition=batch <<EOF \n",
      "#!/bin/sh \n",
      "module load sratoolkit/2.9.0 \n",
      "fastq-dump --split-files --readids --gzip --skip-technical --minSpotId 10000 --maxSpotId 10010000 --outdir /Users/Adele/Desktop/mock_SRR/MPS_4 SRR3439487 \n",
      "EOF\n",
      "sbatch --job-name=SRR3439468 --output=SRR3439468.o --error=SRR3439468.e --mail-user=adelexu@stanford.edu --mail-type=ALL --time=24:0:0 --mem=8G --account=mbarna --partition=batch <<EOF \n",
      "#!/bin/sh \n",
      "module load sratoolkit/2.9.0 \n",
      "fastq-dump --split-files --readids --gzip --skip-technical --minSpotId 10000 --maxSpotId 10010000 --outdir /Users/Adele/Desktop/mock_SRR/nonPXM_1 SRR3439468 \n",
      "EOF\n",
      "sbatch --job-name=SRR3439469 --output=SRR3439469.o --error=SRR3439469.e --mail-user=adelexu@stanford.edu --mail-type=ALL --time=24:0:0 --mem=8G --account=mbarna --partition=batch <<EOF \n",
      "#!/bin/sh \n",
      "module load sratoolkit/2.9.0 \n",
      "fastq-dump --split-files --readids --gzip --skip-technical --minSpotId 10000 --maxSpotId 10010000 --outdir /Users/Adele/Desktop/mock_SRR/nonPXM_2 SRR3439469 \n",
      "EOF\n",
      "sbatch --job-name=SRR3439471 --output=SRR3439471.o --error=SRR3439471.e --mail-user=adelexu@stanford.edu --mail-type=ALL --time=24:0:0 --mem=8G --account=mbarna --partition=batch <<EOF \n",
      "#!/bin/sh \n",
      "module load sratoolkit/2.9.0 \n",
      "fastq-dump --split-files --readids --gzip --skip-technical --minSpotId 10000 --maxSpotId 10010000 --outdir /Users/Adele/Desktop/mock_SRR/PXM_3 SRR3439471 \n",
      "EOF\n",
      "sbatch --job-name=SRR3439472 --output=SRR3439472.o --error=SRR3439472.e --mail-user=adelexu@stanford.edu --mail-type=ALL --time=24:0:0 --mem=8G --account=mbarna --partition=batch <<EOF \n",
      "#!/bin/sh \n",
      "module load sratoolkit/2.9.0 \n",
      "fastq-dump --split-files --readids --gzip --skip-technical --minSpotId 10000 --maxSpotId 10010000 --outdir /Users/Adele/Desktop/mock_SRR/PXM_1 SRR3439472 \n",
      "EOF\n",
      "sbatch --job-name=SRR3439470 --output=SRR3439470.o --error=SRR3439470.e --mail-user=adelexu@stanford.edu --mail-type=ALL --time=24:0:0 --mem=8G --account=mbarna --partition=batch <<EOF \n",
      "#!/bin/sh \n",
      "module load sratoolkit/2.9.0 \n",
      "fastq-dump --split-files --readids --gzip --skip-technical --minSpotId 10000 --maxSpotId 10010000 --outdir /Users/Adele/Desktop/mock_SRR/PXM_2 SRR3439470 \n",
      "EOF\n",
      "sbatch --job-name=SRR3439434 --output=SRR3439434.o --error=SRR3439434.e --mail-user=adelexu@stanford.edu --mail-type=ALL --time=24:0:0 --mem=8G --account=mbarna --partition=batch <<EOF \n",
      "#!/bin/sh \n",
      "module load sratoolkit/2.9.0 \n",
      "fastq-dump --split-files --readids --gzip --skip-technical --minSpotId 10000 --maxSpotId 10010000 --outdir /Users/Adele/Desktop/mock_SRR/LtM_1 SRR3439434 \n",
      "EOF\n",
      "sbatch --job-name=SRR3439437 --output=SRR3439437.o --error=SRR3439437.e --mail-user=adelexu@stanford.edu --mail-type=ALL --time=24:0:0 --mem=8G --account=mbarna --partition=batch <<EOF \n",
      "#!/bin/sh \n",
      "module load sratoolkit/2.9.0 \n",
      "fastq-dump --split-files --readids --gzip --skip-technical --minSpotId 10000 --maxSpotId 10010000 --outdir /Users/Adele/Desktop/mock_SRR/LtM_2 SRR3439437 \n",
      "EOF\n",
      "sbatch --job-name=SRR3439490 --output=SRR3439490.o --error=SRR3439490.e --mail-user=adelexu@stanford.edu --mail-type=ALL --time=24:0:0 --mem=8G --account=mbarna --partition=batch <<EOF \n",
      "#!/bin/sh \n",
      "module load sratoolkit/2.9.0 \n",
      "fastq-dump --split-files --readids --gzip --skip-technical --minSpotId 10000 --maxSpotId 10010000 --outdir /Users/Adele/Desktop/mock_SRR/Smt_1 SRR3439490 \n",
      "EOF\n",
      "sbatch --job-name=SRR3439491 --output=SRR3439491.o --error=SRR3439491.e --mail-user=adelexu@stanford.edu --mail-type=ALL --time=24:0:0 --mem=8G --account=mbarna --partition=batch <<EOF \n",
      "#!/bin/sh \n",
      "module load sratoolkit/2.9.0 \n",
      "fastq-dump --split-files --readids --gzip --skip-technical --minSpotId 10000 --maxSpotId 10010000 --outdir /Users/Adele/Desktop/mock_SRR/Smt_2 SRR3439491 \n",
      "EOF\n",
      "sbatch --job-name=SRR3439438 --output=SRR3439438.o --error=SRR3439438.e --mail-user=adelexu@stanford.edu --mail-type=ALL --time=24:0:0 --mem=8G --account=mbarna --partition=batch <<EOF \n",
      "#!/bin/sh \n",
      "module load sratoolkit/2.9.0 \n",
      "fastq-dump --split-files --readids --gzip --skip-technical --minSpotId 10000 --maxSpotId 10010000 --outdir /Users/Adele/Desktop/mock_SRR/Smt_5 SRR3439438 \n",
      "EOF\n",
      "sbatch --job-name=SRR3439440 --output=SRR3439440.o --error=SRR3439440.e --mail-user=adelexu@stanford.edu --mail-type=ALL --time=24:0:0 --mem=8G --account=mbarna --partition=batch <<EOF \n",
      "#!/bin/sh \n",
      "module load sratoolkit/2.9.0 \n",
      "fastq-dump --split-files --readids --gzip --skip-technical --minSpotId 10000 --maxSpotId 10010000 --outdir /Users/Adele/Desktop/mock_SRR/Smt_6 SRR3439440 \n",
      "EOF\n",
      "sbatch --job-name=SRR3439494 --output=SRR3439494.o --error=SRR3439494.e --mail-user=adelexu@stanford.edu --mail-type=ALL --time=24:0:0 --mem=8G --account=mbarna --partition=batch <<EOF \n",
      "#!/bin/sh \n",
      "module load sratoolkit/2.9.0 \n",
      "fastq-dump --split-files --readids --gzip --skip-technical --minSpotId 10000 --maxSpotId 10010000 --outdir /Users/Adele/Desktop/mock_SRR/Smt_4 SRR3439494 \n",
      "EOF\n",
      "sbatch --job-name=SRR3439493 --output=SRR3439493.o --error=SRR3439493.e --mail-user=adelexu@stanford.edu --mail-type=ALL --time=24:0:0 --mem=8G --account=mbarna --partition=batch <<EOF \n",
      "#!/bin/sh \n",
      "module load sratoolkit/2.9.0 \n",
      "fastq-dump --split-files --readids --gzip --skip-technical --minSpotId 10000 --maxSpotId 10010000 --outdir /Users/Adele/Desktop/mock_SRR/Smt_3 SRR3439493 \n",
      "EOF\n",
      "sbatch --job-name=SRR3439441 --output=SRR3439441.o --error=SRR3439441.e --mail-user=adelexu@stanford.edu --mail-type=ALL --time=24:0:0 --mem=8G --account=mbarna --partition=batch <<EOF \n",
      "#!/bin/sh \n",
      "module load sratoolkit/2.9.0 \n",
      "fastq-dump --split-files --readids --gzip --skip-technical --minSpotId 10000 --maxSpotId 10010000 --outdir /Users/Adele/Desktop/mock_SRR/CM_1 SRR3439441 \n",
      "EOF\n",
      "sbatch --job-name=SRR3439442 --output=SRR3439442.o --error=SRR3439442.e --mail-user=adelexu@stanford.edu --mail-type=ALL --time=24:0:0 --mem=8G --account=mbarna --partition=batch <<EOF \n",
      "#!/bin/sh \n",
      "module load sratoolkit/2.9.0 \n",
      "fastq-dump --split-files --readids --gzip --skip-technical --minSpotId 10000 --maxSpotId 10010000 --outdir /Users/Adele/Desktop/mock_SRR/CM_2 SRR3439442 \n",
      "EOF\n",
      "sbatch --job-name=SRR3439474 --output=SRR3439474.o --error=SRR3439474.e --mail-user=adelexu@stanford.edu --mail-type=ALL --time=24:0:0 --mem=8G --account=mbarna --partition=batch <<EOF \n",
      "#!/bin/sh \n",
      "module load sratoolkit/2.9.0 \n",
      "fastq-dump --split-files --readids --gzip --skip-technical --minSpotId 10000 --maxSpotId 10010000 --outdir /Users/Adele/Desktop/mock_SRR/Drmmtm_1 SRR3439474 \n",
      "EOF\n",
      "sbatch --job-name=SRR3439475 --output=SRR3439475.o --error=SRR3439475.e --mail-user=adelexu@stanford.edu --mail-type=ALL --time=24:0:0 --mem=8G --account=mbarna --partition=batch <<EOF \n",
      "#!/bin/sh \n",
      "module load sratoolkit/2.9.0 \n",
      "fastq-dump --split-files --readids --gzip --skip-technical --minSpotId 10000 --maxSpotId 10010000 --outdir /Users/Adele/Desktop/mock_SRR/Drmmtm_2 SRR3439475 \n",
      "EOF\n",
      "sbatch --job-name=SRR3439443 --output=SRR3439443.o --error=SRR3439443.e --mail-user=adelexu@stanford.edu --mail-type=ALL --time=24:0:0 --mem=8G --account=mbarna --partition=batch <<EOF \n",
      "#!/bin/sh \n",
      "module load sratoolkit/2.9.0 \n",
      "fastq-dump --split-files --readids --gzip --skip-technical --minSpotId 10000 --maxSpotId 10010000 --outdir /Users/Adele/Desktop/mock_SRR/Drmmtm_4 SRR3439443 \n",
      "EOF\n",
      "sbatch --job-name=SRR3439476 --output=SRR3439476.o --error=SRR3439476.e --mail-user=adelexu@stanford.edu --mail-type=ALL --time=24:0:0 --mem=8G --account=mbarna --partition=batch <<EOF \n",
      "#!/bin/sh \n",
      "module load sratoolkit/2.9.0 \n",
      "fastq-dump --split-files --readids --gzip --skip-technical --minSpotId 10000 --maxSpotId 10010000 --outdir /Users/Adele/Desktop/mock_SRR/Drmmtm_3 SRR3439476 \n",
      "EOF\n",
      "sbatch --job-name=SRR3439488 --output=SRR3439488.o --error=SRR3439488.e --mail-user=adelexu@stanford.edu --mail-type=ALL --time=24:0:0 --mem=8G --account=mbarna --partition=batch <<EOF \n",
      "#!/bin/sh \n",
      "module load sratoolkit/2.9.0 \n",
      "fastq-dump --split-files --readids --gzip --skip-technical --minSpotId 10000 --maxSpotId 10010000 --outdir /Users/Adele/Desktop/mock_SRR/Sclrtm_1 SRR3439488 \n",
      "EOF\n",
      "sbatch --job-name=SRR3439489 --output=SRR3439489.o --error=SRR3439489.e --mail-user=adelexu@stanford.edu --mail-type=ALL --time=24:0:0 --mem=8G --account=mbarna --partition=batch <<EOF \n",
      "#!/bin/sh \n",
      "module load sratoolkit/2.9.0 \n",
      "fastq-dump --split-files --readids --gzip --skip-technical --minSpotId 10000 --maxSpotId 10010000 --outdir /Users/Adele/Desktop/mock_SRR/Sclrtm_2 SRR3439489 \n",
      "EOF\n",
      "sbatch --job-name=SRR3439456 --output=SRR3439456.o --error=SRR3439456.e --mail-user=adelexu@stanford.edu --mail-type=ALL --time=24:0:0 --mem=8G --account=mbarna --partition=batch <<EOF \n",
      "#!/bin/sh \n",
      "module load sratoolkit/2.9.0 \n",
      "fastq-dump --split-files --readids --gzip --skip-technical --minSpotId 10000 --maxSpotId 10010000 --outdir /Users/Adele/Desktop/mock_SRR/Sclrtm_3 SRR3439456 \n",
      "EOF\n"
     ]
    }
   ],
   "source": [
    "import pandas as pd\n",
    "import os\n",
    "import subprocess\n",
    "\n",
    "df = pd.read_csv(args.SRR_path, sep=\"\\t\", names=[\"dir_name\", \"SRR\"])\n",
    "\n",
    "for index, row in df.iterrows():\n",
    "    dest_path = os.path.join(args.root_path, row.dir_name)\n",
    "    print(dest_path)\n",
    "    if not os.path.exists(dest_path):\n",
    "        os.mkdir(dest_path)\n",
    "        custom_fdargs = \" \".join(args.fdargs+[\"--outdir\",dest_path,row.SRR])\n",
    "        cmd_line = f'sbatch \\\n",
    "--job-name={row.SRR} \\\n",
    "--output={row.SRR}.o \\\n",
    "--error={row.SRR}.e \\\n",
    "--mail-user={args.sbatch_email} \\\n",
    "--mail-type={args.sbatch_email_type} \\\n",
    "--time={args.sbatch_time} \\\n",
    "--mem={args.sbatch_mem} \\\n",
    "--account={args.sbatch_account} \\\n",
    "--partition={args.sbatch_partition} \\\n",
    "<<EOF \\n#!/bin/sh \\nmodule load sratoolkit/2.9.0 \\nfastq-dump {custom_fdargs} \\nEOF'\n",
    "        print(cmd_line)\n",
    "        subprocess.check_output(cmd_line)\n",
    "    else:\n",
    "        print(row.dir_name, \": ERROR: directory already exists\")\n",
    "    "
   ]
  },
  {
   "cell_type": "code",
   "execution_count": 7,
   "metadata": {},
   "outputs": [
    {
     "data": {
      "text/plain": [
       "b'Hello World!\\nNice to meet you!\\n'"
      ]
     },
     "execution_count": 7,
     "metadata": {},
     "output_type": "execute_result"
    }
   ],
   "source": [
    "import subprocess\n",
    "\n",
    "subprocess.check_output(\"echo 'Hello World!'; echo 'Nice to meet you!'\", shell=True)"
   ]
  },
  {
   "cell_type": "code",
   "execution_count": 9,
   "metadata": {},
   "outputs": [
    {
     "data": {
      "text/plain": [
       "'a-b-c-x-y-z'"
      ]
     },
     "execution_count": 9,
     "metadata": {},
     "output_type": "execute_result"
    }
   ],
   "source": [
    "test_list = [\"a\", \"b\", \"c\", \"x\", \"y\", \"z\"]\n",
    "\"-\".join(test_list)"
   ]
  },
  {
   "cell_type": "code",
   "execution_count": 41,
   "metadata": {},
   "outputs": [
    {
     "data": {
      "text/plain": [
       "'--split-files --readids --gzip --skip-technical --minSpotId 10000 --maxSpotId 10010000 --output /path/to/whatever SRR000000'"
      ]
     },
     "execution_count": 41,
     "metadata": {},
     "output_type": "execute_result"
    }
   ],
   "source": [
    "\" \".join(args.fdargs+[\"--outdir\",\"/path/to/whatever\",\"SRR000000\"])"
   ]
  },
  {
   "cell_type": "code",
   "execution_count": 3,
   "metadata": {},
   "outputs": [],
   "source": [
    "import os\n",
    "\n",
    "with open(os.path.join(args.root_path, \"SRR000000_fastq-dump.config\"), 'w') as config_file:\n",
    "    config_file.write(\"testing...\")"
   ]
  },
  {
   "cell_type": "code",
   "execution_count": null,
   "metadata": {
    "collapsed": true
   },
   "outputs": [],
   "source": []
  }
 ],
 "metadata": {
  "kernelspec": {
   "display_name": "Python 3",
   "language": "python",
   "name": "python3"
  },
  "language_info": {
   "codemirror_mode": {
    "name": "ipython",
    "version": 3
   },
   "file_extension": ".py",
   "mimetype": "text/x-python",
   "name": "python",
   "nbconvert_exporter": "python",
   "pygments_lexer": "ipython3",
   "version": "3.7.4"
  }
 },
 "nbformat": 4,
 "nbformat_minor": 2
}
