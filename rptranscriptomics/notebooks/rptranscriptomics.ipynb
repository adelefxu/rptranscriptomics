{
 "cells": [
  {
   "cell_type": "markdown",
   "metadata": {},
   "source": [
    "# Goal\n",
    "\n",
    "Re-do alignment and gene expression quantification on published RNA-seq data from Kyle Loh's hESC --> mesoderm differentiation paper. This will allow us to compare the changes in RP <b>mRNA</b> levels during mesoderm differentiation to the changes in RP <b>protein</b> levels (the latter data comes from Naomi's work).\n",
    "\n",
    "We think this is worth re-doing b/c \n",
    "<ol>\n",
    "    <li> we don't have the detailed methods for how the spreadsheet that Naomi has was generated</li>\n",
    "    <li> we do know how the published gene expression data was generated, but the pipeline mostly uses default STAR and RSEM parameters, which are likely not optimal for handling genes w/ many pseudogenes\n",
    "\n",
    "\n",
    "# TODO\n",
    "<ol>\n",
    "    <li> Download at least 1 hESC dataset to use for piloting pipeline, using sra-toolkit </li>\n",
    "    <li> Find and download other relevant datasets (replicates for each stage of differentiation) -- limit to first 10M reads to speed up computation </li>\n",
    "    <li> Re-read and take notes on Kyle's paper on how they did their RNA-seq analysis. Did this a while ago (notes in Benchling) but need a refresher </li>\n",
    "    <li> Try to replicate the pipeline described in the Sci Data 2016 paper (but only on the first 10M reads) -- make sure I'm roughly dealing with the same data and am getting the pipeline right (albeit only 10M reads per sample) </li>\n",
    "    <li>Start experimenting with ways to include/exclude pseudogenes from alignment</li>\n",
    "    \n"
   ]
  },
  {
   "cell_type": "markdown",
   "metadata": {},
   "source": [
    "# links & references\n",
    "\n",
    "main paper describing mesoderm differentiation, Cell 2016:\n",
    "https://www-sciencedirect-com.stanford.idm.oclc.org/science/article/pii/S0092867416307401\n",
    "\n",
    "main paper describing endoderm differentiation, Cell Stem Cell 2014:\n",
    "https://www-cell-com.stanford.idm.oclc.org/cell-stem-cell/fulltext/S1934-5909(13)00556-0\n",
    "\n",
    "paper specifically describing the mesoderm data, Scientific Data 2016:\n",
    "https://www-nature-com.stanford.idm.oclc.org/articles/sdata2016109\n",
    "\n",
    "All GEO entries associated w/ the Cell 2016 mesoderm paper SRP073808:\n",
    "https://www.ncbi.nlm.nih.gov//sra/?holding=F1000&otool=stanford&term=SRP073808\n",
    "\n",
    "All 5 runs of h7 hESC bulk RNA-seq (to use for piloting pipelines):\n",
    "https://www.ncbi.nlm.nih.gov/sra/SRX1725562[accn]\n",
    "\n",
    "Previous notes on Benchling: \n",
    "https://benchling.com/s/etr-xvYly9LylZJSn2Vay4eh\n",
    "\n",
    "Previous notes on Google Doc:\n",
    "https://docs.google.com/document/d/1HzouixEdGyJMMzsg9SNA2v_kKXIRD68kfcbyexAajAg/edit#"
   ]
  },
  {
   "cell_type": "markdown",
   "metadata": {},
   "source": [
    "\n",
    "# NRG's gene expression spreadsheet vs. published\n",
    "\n",
    "How was the gene expression data that Naomi emailed me actually obtained \"Copy of Eleven way mesoderm RNA-seq table (Jan 29 2015)_orig\"?\n",
    "- name of tab in spreadsheet indicates it's in FPKM, whereas the paper methods use units of log(TPM+1) and I think the processed data they published is in TPM as well? \n",
    "- she said once that they aligned to a reference transcriptome, but paper methods say they used ENCODE long read pipeline and hg38. ENCODE pipeline uses STAR, which AFAIK only accepts reference genomes, not transcriptomes. \n",
    "- several RP pseudogenes are included as genes; their expression level is generally very low (< 100 in whatever units these are) compared to canonical RPs (in the 1000s)\n",
    "        "
   ]
  },
  {
   "cell_type": "markdown",
   "metadata": {},
   "source": [
    "# Downloading raw data\n",
    "\n",
    "Found this script in a directory for an old project:\n",
    "\n",
    "```bash\n",
    "#!/bin/bash -l\n",
    "#\n",
    "#SBATCH -J fastq-dump\n",
    "#SBATCH -o fastq-dump.o\n",
    "#SBATCH -e fastq-dump.e\n",
    "#\n",
    "#SBATCH --mail-user adelexu@stanford.edu\n",
    "#SBATCH --mail-type=ALL\n",
    "#\n",
    "#SBATCH -t 96:0:0\n",
    "#SBATCH -A mbarna\n",
    "#SBATCH --mem=8G\n",
    "#\n",
    "# options for partition are batch, interactive, or nih_s10\n",
    "#SBATCH -p batch\n",
    "\n",
    "#to run: sbatch sbatch.fastq-dump.10M.sh /path/to/destination/directory SRR0000000\n",
    "\n",
    "module load sratoolkit/2.9.0\n",
    "\n",
    "fastq-dump -I -X 10000000 --split-files -O $1 $2\n",
    "```\n",
    "\n",
    "I think I can use this safely; previously I had issues where SRA was saving huge .sra files for each fastq-dump to /home/adelexu, which has a very limited quota. Sysadmin told me to set up a symlink to trick SRA into saving into a directory on /labs/mbarna/users/adelexu, which is still there. Command for doing so was `mv $HOME/ncbi /labs/mbarna/users/adelexu/ && ln -s /labs/mbarna/users/adelexu/ncbi $HOME/ncbi`\n",
    "\n",
    "The `--gzip` option allows me to dump directly as .gz file, which is useful. \n",
    "\n",
    "Will try calling this on just one SRR for one of the h7 hESC samples, and then come up w/ a Python wrapper to submit one of these jobs for each sample I want.\n",
    "\n",
    "Figured out I can run an entire shell script from python (as multi-line argument to subprocess.check_output). \n",
    "\n",
    "Wrote fastq-dump.py (developed in dev_fastq-dump.py), ran for all SRRs listed in /labs/mbarna/users/adelexu/rptranscriptomics/SRP073808_bulk_RNA-seq_SRR.txt. Stored fastq.gz files, config, error, and log files in /labs/mbarna/users/adelexu/rptranscriptomics/fastq. note: only fastq-dumped first 10M reads (after skipping first 10K based on concern from https://edwards.sdsu.edu/research/fastq-dump/ that the first few reads are not representative \n",
    "\n",
    "# Task 1: replicate (approximately, on downsampled dataset) published results & compare to Naomi's spreadsheet\n",
    "\n",
    "## Set up pilot\n",
    "\n",
    "Made an extra copy of /labs/mbarna/users/adelexu/rptranscriptomics/fastq/hESC_1 directory to pilot_hESC_1 to use as a pilot dataset, truncated each of the fastq.gz files to first 1M reads to reduce runtime during dev"
   ]
  },
  {
   "cell_type": "code",
   "execution_count": 1,
   "metadata": {},
   "outputs": [],
   "source": [
    "# setup for pilot\n",
    "\n",
    "import os\n",
    "import subprocess\n",
    "os.chdir('/labs/mbarna/users/adelexu/rptranscriptomics/fastq/pilot_hESC_1/')"
   ]
  },
  {
   "cell_type": "code",
   "execution_count": 1,
   "metadata": {},
   "outputs": [
    {
     "data": {
      "text/plain": [
       "b''"
      ]
     },
     "execution_count": 1,
     "metadata": {},
     "output_type": "execute_result"
    }
   ],
   "source": [
    "# truncate to first 1M reads (=4M lines) out of the 10M downloaded\n",
    "# recall that I skipped the first 10K when downloading the 10M\n",
    "\n",
    "subprocess.check_output(\"zcat SRR3439477_1.fastq.gz | head -4000000 | gzip > SRR3439477_1_1M.fastq.gz\", shell=True)\n",
    "subprocess.check_output(\"zcat SRR3439477_2.fastq.gz | head -4000000 | gzip > SRR3439477_2_1M.fastq.gz\", shell=True)"
   ]
  },
  {
   "cell_type": "code",
   "execution_count": 3,
   "metadata": {},
   "outputs": [
    {
     "data": {
      "text/plain": [
       "b'Submitted batch job 13464457\\n'"
      ]
     },
     "execution_count": 3,
     "metadata": {},
     "output_type": "execute_result"
    }
   ],
   "source": [
    "# run fastqc\n",
    "\n",
    "subprocess.check_output(\"sbatch \\\n",
    "--job-name=fastqc_pilot_hESC_1 \\\n",
    "--error=%x-%j.e \\\n",
    "--output=%x-%j.o \\\n",
    "--account=mbarna \\\n",
    "--partition=batch \\\n",
    "--time=0:30:0 \\\n",
    "--mem=1G <<EOF \\n\\\n",
    "#!/bin/sh \\n\\\n",
    "module load fastqc \\n\\\n",
    "fastqc /labs/mbarna/users/adelexu/rptranscriptomics/fastq/pilot_hESC_1/SRR3439477_1_1M.fastq.gz \\n\\\n",
    "fastqc /labs/mbarna/users/adelexu/rptranscriptomics/fastq/pilot_hESC_1/SRR3439477_2_1M.fastq.gz \\n\\\n",
    "EOF\", shell=True)"
   ]
  },
  {
   "cell_type": "markdown",
   "metadata": {},
   "source": [
    "b'Submitted batch job 13464457\\n'"
   ]
  },
  {
   "cell_type": "markdown",
   "metadata": {},
   "source": [
    "## Fastqc\n",
    "\n",
    "fastqc results stored in /labs/mbarna/users/adelexu/rptranscriptomics/fastq/pilot_hESC_1/\n",
    "\n",
    "results look reasonable; read length is 21-150...wondering if this means that adapters have already been trimmed? In the Sci Data paper the Skewer parameters given include filtering out reads of length <21\n",
    "\n",
    "I'll run Skewer again on these samples just to check if anything changes.\n",
    "\n",
    "notes on skewer parameters, from manual downloaded from https://sourceforge.net/projects/skewer/files/, last updated 2015-05-12\t:\n",
    "* default -x and -y adapters sequences match the beginning of what the Sci Data paper used, but the Sci Data adapter sequences are longer\n",
    "* Sci Data paper doesn't provide a -m option (mode of trimming) and no default is specified in manual, so I'm not sure what mdoe they're using (presumably paired-end?)\n",
    "* default error rate per base is 0.1 for substitutions, 0.03 for indels. unclear what minimum overlap for adapter detection is for paired-end mode?\n",
    "* -q option specifies to trim 3' end until specified quality is reached; I think this explains why there might still be some reads w/ <21 average Phred quality -- there may be bases on the 5' end w/ poor quality that survived the 3' trimming\n",
    "* -n filters out reads w/ lots of Ns\n",
    "* -u filters out undetermined mate-pair reads"
   ]
  },
  {
   "cell_type": "code",
   "execution_count": 7,
   "metadata": {},
   "outputs": [
    {
     "data": {
      "text/plain": [
       "b'Submitted batch job 13465102\\n'"
      ]
     },
     "execution_count": 7,
     "metadata": {},
     "output_type": "execute_result"
    }
   ],
   "source": [
    "# run Skewer\n",
    "# parameters copied from Sci Data paper (for bulk RNA-seq) except added --compress option and ran on 1 core instead of 16\n",
    "\n",
    "# can't figure out how to get skewer to put trimmed fastq files in any directory other than the default\n",
    "# just moving files in a separate step instead\n",
    "\n",
    "os.makedirs(\"/labs/mbarna/users/adelexu/rptranscriptomics/post-skewer/pilot_hESC_1/\", exist_ok=True)\n",
    "\n",
    "subprocess.check_output(\"sbatch \\\n",
    "--chdir=/labs/mbarna/users/adelexu/rptranscriptomics/post-skewer/pilot_hESC_1/ \\\n",
    "--job-name=skewer_pilot_hESC_1 \\\n",
    "--error=%x-%j.e \\\n",
    "--output=%x-%j.o \\\n",
    "--account=mbarna \\\n",
    "--partition=batch \\\n",
    "--time=1:0:0 \\\n",
    "--mem=1G <<EOF \\n\\\n",
    "#!/bin/sh \\n\\\n",
    "/labs/mbarna/users/adelexu/bin/skewer-0.1.127-linux-x86_64 \\\n",
    "-x AGATCGGAAGAGCACACGTCTGAACTCCAGTCACNNNNNNATCTCGTATGCCGTCTTCTGCTTG \\\n",
    "-y AGATCGGAAGAGCGTCGTGTAGGGAAAGAGTGTAGATCTCGGTGGTCGCCGTATCATT \\\n",
    "-t 1 -q 21 -l 21 -n -u -f sanger --compress \\\n",
    "/labs/mbarna/users/adelexu/rptranscriptomics/fastq/pilot_hESC_1/SRR3439477_1_1M.fastq.gz \\\n",
    "/labs/mbarna/users/adelexu/rptranscriptomics/fastq/pilot_hESC_1/SRR3439477_2_1M.fastq.gz \\n\\\n",
    "\\\n",
    "mv /labs/mbarna/users/adelexu/rptranscriptomics/fastq/pilot_hESC_1/*trimmed*.fastq.gz \\\n",
    "/labs/mbarna/users/adelexu/rptranscriptomics/post-skewer/pilot_hESC_1/ \\n\\\n",
    "EOF\", shell=True)"
   ]
  },
  {
   "cell_type": "markdown",
   "metadata": {},
   "source": [
    "b'Submitted batch job 13465102\\n'\n"
   ]
  },
  {
   "cell_type": "markdown",
   "metadata": {},
   "source": [
    "in parallel, going to run cutadapt on the raw fastq files b/c its default adapter trimming modes are better documented, so I will check if cutadapt finds any adapters to trim. note that its default min overlap is 3"
   ]
  },
  {
   "cell_type": "code",
   "execution_count": 8,
   "metadata": {},
   "outputs": [
    {
     "data": {
      "text/plain": [
       "b'Submitted batch job 13465130\\n'"
      ]
     },
     "execution_count": 8,
     "metadata": {},
     "output_type": "execute_result"
    }
   ],
   "source": [
    "# run cutadapt\n",
    "\n",
    "dest_path=\"/labs/mbarna/users/adelexu/rptranscriptomics/post-cutadapt/pilot_hESC_1/\"\n",
    "os.makedirs(dest_path, exist_ok=True)\n",
    "\n",
    "subprocess.check_output(f\"sbatch \\\n",
    "--chdir={dest_path} \\\n",
    "--job-name=cutadapt_pilot_hESC_1 \\\n",
    "--error=%x-%j.e \\\n",
    "--output=%x-%j.o \\\n",
    "--account=mbarna \\\n",
    "--partition=batch \\\n",
    "--time=0:30:0 \\\n",
    "--mem=1G <<EOF \\n\\\n",
    "#!/bin/sh \\n\\\n",
    "module load cutadapt/2.4 \\n\\\n",
    "cutadapt \\\n",
    "-a AGATCGGAAGAGCACACGTCTGAACTCCAGTCAC \\\n",
    "-A AGATCGGAAGAGCGTCGTGTAGGGAAAGAGTGTA \\\n",
    "-o {dest_path}SRR3439477_1_1M_post-cutadapt.fastq.gz \\\n",
    "-p {dest_path}SRR3439477_2_1M_post-cutadapt.fastq.gz \\\n",
    "/labs/mbarna/users/adelexu/rptranscriptomics/fastq/pilot_hESC_1/SRR3439477_1_1M.fastq.gz \\\n",
    "/labs/mbarna/users/adelexu/rptranscriptomics/fastq/pilot_hESC_1/SRR3439477_2_1M.fastq.gz \\n\\\n",
    "EOF\", shell=True)"
   ]
  },
  {
   "cell_type": "markdown",
   "metadata": {},
   "source": [
    "b'Submitted batch job 13465130\\n'"
   ]
  },
  {
   "cell_type": "markdown",
   "metadata": {},
   "source": [
    "## Skewer results\n",
    "\n",
    "Copied from log:\n",
    "\n",
    "    Fri Jan 10 15:13:48 2020 >> done (170.717s)\n",
    "    1000000 read pairs processed; of these:\n",
    "          0 ( 0.00%) degenerative read pairs filtered out\n",
    "          0 ( 0.00%) undetermined read pairs filtered out by contaminant control\n",
    "          9 ( 0.00%) short read pairs filtered out after trimming by size control\n",
    "          0 ( 0.00%) empty read pairs filtered out after trimming by size control\n",
    "     999991 (100.00%) read pairs available; of these:\n",
    "     112241 (11.22%) trimmed read pairs available after processing\n",
    "     887750 (88.78%) untrimmed read pairs available after processing\n",
    "\n",
    "Wondering whether the 11% that were trimmed are just reads that happened to end in >= 3 bases that matched the adapters...\n",
    "\n",
    "Looks like for paired-end, there isn't a minimum overlap for adapter trimming -- just relies on info from the other mate pair? ... but in that case a false positive overlap shouldn't be possible  \n",
    "\n",
    "Skewer doesn't seem to have correctly named the two output .fastq.gz files, but I checked and the first few reads in the read 1 and read 2 files are still correct:\n",
    "\n",
    "SRR3439477_1_1M.fastq-trimmed-pair1.fastq.gz\n",
    "SRR3439477_1_1M.fastq-trimmed-pair2.fastq.gz\n",
    "\n",
    "Re-naming these to SRR3439477_1_1M.fastq-trimmed.fastq.gz and SRR3439477_2_1M.fastq-trimmed.fastq.gz to maintain consistency\n",
    "\n",
    "\n",
    "## Cutadapt results\n",
    "\n",
    "Copied from Cutadapt .o file:\n",
    "\n",
    "    === Summary ===\n",
    "    Total read pairs processed:          1,000,000\n",
    "      Read 1 with adapter:                  27,358 (2.7%)\n",
    "      Read 2 with adapter:                  24,731 (2.5%)\n",
    "    Pairs written (passing filters):     1,000,000 (100.0%)\n",
    "    Total basepairs processed:   292,830,973 bp\n",
    "      Read 1:   146,463,244 bp\n",
    "      Read 2:   146,367,729 bp\n",
    "    Total written (filtered):    292,431,965 bp (99.9%)\n",
    "      Read 1:   146,194,033 bp\n",
    "      Read 2:   146,237,932 bp\n",
    "    === First read: Adapter 1 ===\n",
    "    Sequence: AGATCGGAAGAGCACACGTCTGAACTCCAGTCAC; Type: regular 3'; Length: 34; Trimmed: 27358 times.\n",
    "    No. of allowed errors:\n",
    "    0-9 bp: 0; 10-19 bp: 1; 20-29 bp: 2; 30-34 bp: 3\n",
    "    Bases preceding removed adapters:\n",
    "      A: 34.5%\n",
    "      C: 25.1%\n",
    "      G: 21.8%\n",
    "      T: 16.8%\n",
    "      none/other: 1.8%\n",
    "    Overview of removed sequences\n",
    "    length  count   expect  max.err error counts\n",
    "    3       17948   15625.0 0       17948\n",
    "    4       5249    3906.2  0       5249\n",
    "    5       963     976.6   0       963\n",
    "    6       107     244.1   0       107\n",
    "    7       42      61.0    0       42\n",
    "    8       30      15.3    0       30\n",
    "    9       55      3.8     0       33 22\n",
    "    ...\n",
    "    145     4       0.0     3       0 1 1 2\n",
    "    146     4       0.0     3       0 0 3 1\n",
    "    147     3       0.0     3       0 1 0 2\n",
    "    148     2       0.0     3       0 0 2\n",
    "    149     5       0.0     3       0 2 0 3\n",
    "    150     483     0.0     3       0 437 27 19\n",
    "    \n",
    "    ...\n",
    "    ...\n",
    "    ...\n",
    "    \n",
    "    === Second read: Adapter 2 ===\n",
    "\n",
    "    Sequence: AGATCGGAAGAGCGTCGTGTAGGGAAAGAGTGTA; Type: regular 3'; Length: 34; Trimmed: 24731 times.\n",
    "\n",
    "    No. of allowed errors:\n",
    "    0-9 bp: 0; 10-19 bp: 1; 20-29 bp: 2; 30-34 bp: 3\n",
    "\n",
    "    Bases preceding removed adapters:\n",
    "      A: 35.9%\n",
    "      C: 23.7%\n",
    "      G: 22.6%\n",
    "      T: 17.7%\n",
    "      none/other: 0.0%\n",
    "\n",
    "    Overview of removed sequences\n",
    "    length  count   expect  max.err error counts\n",
    "    3       17075   15625.0 0       17075\n",
    "    4       5076    3906.2  0       5076\n",
    "    5       1053    976.6   0       1053\n",
    "    6       120     244.1   0       120\n",
    "    7       34      61.0    0       34\n",
    "    8       33      15.3    0       33\n",
    "    9       62      3.8     0       39 23\n",
    "    10      83      1.0     1       33 50\n",
    "    ...\n",
    "    130     1       0.0     3       1\n",
    "    132     1       0.0     3       0 0 0 1\n",
    "    134     1       0.0     3       0 0 0 1\n",
    "    135     3       0.0     3       0 1 1 1\n",
    "    145     1       0.0     3       0 1\n",
    "    147     1       0.0     3       0 0 1\n",
    "    150     1       0.0     3       0 0 1\n",
    "    \n",
    "Seems to be quite a discrepancy between the Skewer and Cutadapt results... <3% of Read 1 and Read 2 were trimmed at all in Cutadapt, while 11% of read pairs were trimmed in Skewer. Note that if the downloaded reads had already been trimmed, the newly exposed \"3'\" end of some reads might now match the adapter sequence by chance. With either program, the degree of trimming is lower than I would expect if the downloaded data had been untrimmed, and higher than I would expect if it had already been trimmed.\n",
    "\n",
    "Given that the loss of a few bases is not a major issue for RNA-seq data, I'll err on the side of assuming the downloaded fastq files were untrimmed and proceed with the post-skewer files."
   ]
  },
  {
   "cell_type": "markdown",
   "metadata": {},
   "source": [
    "## Prepare genomes for STAR and RSEM\n",
    "\n",
    "Will adapt Python script from https://github.com/kundajelab/mesoderm/blob/master/RNA-seq/STAR_RSEM_prep.py, commit 1d3909b251d3841306f77d5fa9a3b86ba803ff7e. Need to download the requisite genome files first \n",
    "\n",
    "For the sake of comparison will first try to download the most similar reference genome to what Sci Data paper uses; can change to updated or alternatively curated reference genome later. Sci Data paper says they used hg38; in the STAR_RSEM_prep.py script on Pang Wei's Github, there are these two lines:\n",
    "\n",
    "```\n",
    "fastaGenome = \"/srv/scratch/pangwei/mesoderm/bulk-rna/genome/hg20.GRCh38/GrCh38_ERCC92.genome.fa\"\n",
    "\n",
    "# all-inclusive gtf file\n",
    "gtf = \"/srv/scratch/pangwei/mesoderm/bulk-rna/genome/hg20.GRCh38/GENCODE_ann/gencode.v22/gencode.v22_ERCC92.annotation.gtf\"\n",
    "```\n",
    "\n",
    "Not sure what the hg20 refers to (I think this is synonymous w/ hg38?) but GENCODE v22 makes sense -- it was released 3/2015 while the Cell 2016 paper was submitted 2/2015 and accepted 6/2016; so maybe they updated the code during revisions.\n",
    "\n",
    "Also think I need to find an ERCC92 FASTA file and GTF to concatenate to the GENCODE files...\n",
    "\n",
    "Also unsure whether they used primary assembly or full genome for sequences and annotations. Will try primary assembly first. Full genome (i.e. ftp://ftp.ebi.ac.uk/pub/databases/gencode/Gencode_human/release_22/GRCh38.p2.genome.fa.gz) contains patches and alternative haplotypes, which STAR manual says should not be included in the reference genome."
   ]
  },
  {
   "cell_type": "code",
   "execution_count": 10,
   "metadata": {},
   "outputs": [
    {
     "data": {
      "text/plain": [
       "b'Submitted batch job 13470961\\n'"
      ]
     },
     "execution_count": 10,
     "metadata": {},
     "output_type": "execute_result"
    }
   ],
   "source": [
    "# download GENCODE v22 primary assembly .fa file\n",
    "\n",
    "import os\n",
    "import subprocess\n",
    "\n",
    "dest_path = \"/labs/mbarna/users/adelexu/rptranscriptomics/genomes/gencode.v22/\"\n",
    "job_name = \"v22_fa_rsync\"\n",
    "job_time = \"2:0:0\"\n",
    "job_mem = \"1G\"\n",
    "shell_code = f\"rsync -av rsync://ftp.ebi.ac.uk/pub/databases/gencode/Gencode_human/release_22/GRCh38.primary_assembly.genome.fa.gz {dest_path}\"\n",
    "\n",
    "os.makedirs(dest_path, exist_ok=True)\n",
    "sbatch_defaults = \"--error=%x-%j.e --output=%x-%j.o --account=mbarna --partition=batch\"\n",
    "\n",
    "cmd_line=f\"sbatch \\\n",
    "--chdir={dest_path} \\\n",
    "--job-name={job_name} \\\n",
    "{sbatch_defaults} \\\n",
    "--time={job_time} \\\n",
    "--mem={job_mem} <<EOF \\n\\\n",
    "#!/bin/sh \\n\\\n",
    "{shell_code}\\n\\\n",
    "EOF\"\n",
    "\n",
    "subprocess.check_output(cmd_line, shell=True)\n"
   ]
  },
  {
   "cell_type": "markdown",
   "metadata": {},
   "source": [
    "b'Submitted batch job 13470961\\n'"
   ]
  },
  {
   "cell_type": "code",
   "execution_count": 14,
   "metadata": {},
   "outputs": [
    {
     "data": {
      "text/plain": [
       "b'Submitted batch job 13470964\\n'"
      ]
     },
     "execution_count": 14,
     "metadata": {},
     "output_type": "execute_result"
    }
   ],
   "source": [
    "# download GENCODE v22 primary assembly .gtf file\n",
    "\n",
    "dest_path = \"/labs/mbarna/users/adelexu/rptranscriptomics/genomes/gencode.v22/\"\n",
    "job_name = \"v22_gtf_rsync\"\n",
    "job_time = \"0:5:0\"\n",
    "job_mem = \"1G\"\n",
    "shell_code = f\"rsync -av rsync://ftp.ebi.ac.uk/pub/databases/gencode/Gencode_human/release_22/gencode.v22.primary_assembly.annotation.gtf.gz {dest_path}\"\n",
    "\n",
    "os.makedirs(dest_path, exist_ok=True)\n",
    "sbatch_defaults = \"--error=%x-%j.e --output=%x-%j.o --account=mbarna --partition=batch\"\n",
    "\n",
    "cmd_line=f\"sbatch \\\n",
    "--chdir={dest_path} \\\n",
    "--job-name={job_name} \\\n",
    "{sbatch_defaults} \\\n",
    "--time={job_time} \\\n",
    "--mem={job_mem} <<EOF \\n\\\n",
    "#!/bin/sh \\n\\\n",
    "{shell_code}\\n\\\n",
    "EOF\"\n",
    "\n",
    "subprocess.check_output(cmd_line, shell=True)\n"
   ]
  },
  {
   "cell_type": "markdown",
   "metadata": {},
   "source": [
    "b'Submitted batch job 13470964\\n'"
   ]
  },
  {
   "cell_type": "markdown",
   "metadata": {},
   "source": [
    "Downloaded ERCC .fa and .gtf from https://assets.thermofisher.com/TFS-Assets/LSG/manuals/ERCC92.zip, uploaded from local machine to /labs/mbarna/users/adelexu/rptranscriptomics/genomes/ERCC, and gzipped"
   ]
  },
  {
   "cell_type": "code",
   "execution_count": 17,
   "metadata": {},
   "outputs": [
    {
     "data": {
      "text/plain": [
       "b'Submitted batch job 13470965\\n'"
      ]
     },
     "execution_count": 17,
     "metadata": {},
     "output_type": "execute_result"
    }
   ],
   "source": [
    "# concatenate GENCODE and ERCC .fa and .gtf files\n",
    "# note: turns out RSEM needs them in decompressed form, so should omit gzip step in the future\n",
    "\n",
    "root_path = \"/labs/mbarna/users/adelexu/rptranscriptomics/genomes/\"\n",
    "\n",
    "gencode_fa_path = os.path.join(root_path, \"gencode.v22/GRCh38.primary_assembly.genome.fa.gz\")\n",
    "ercc_fa_path = os.path.join(root_path, \"ERCC/ERCC92.fa.gz\")\n",
    "\n",
    "gencode_gtf_path = os.path.join(root_path, \"gencode.v22/gencode.v22.primary_assembly.annotation.gtf.gz\")\n",
    "ercc_gtf_path = os.path.join(root_path, \"ERCC/ERCC92.gtf.gz\")\n",
    "\n",
    "dest_path = os.path.join(root_path, \"gencode.v22_ERCC\")\n",
    "fa_dest = os.path.join(dest_path, 'GRCh38.primary_assembly.genome_ERCC92.fa.gz')\n",
    "gtf_dest = os.path.join(dest_path, 'gencode.v22.primary_assembly.annotation_ERCC92.gtf.gz')\n",
    "\n",
    "job_name = \"cat_gencode_ercc\"\n",
    "job_time = \"0:30:0\"\n",
    "job_mem = \"1G\"\n",
    "shell_code = f\"zcat {gencode_fa_path} {ercc_fa_path} | gzip > {fa_dest} \\n\\\n",
    "zcat {gencode_gtf_path} {ercc_gtf_path} | gzip > {gtf_dest}\"\n",
    "\n",
    "sbatch_defaults = \"--error=%x-%j.e --output=%x-%j.o --account=mbarna --partition=batch\"\n",
    "\n",
    "cmd_line=f\"sbatch \\\n",
    "--chdir={dest_path} \\\n",
    "--job-name={job_name} \\\n",
    "{sbatch_defaults} \\\n",
    "--time={job_time} \\\n",
    "--mem={job_mem} <<EOF \\n\\\n",
    "#!/bin/sh \\n\\\n",
    "{shell_code}\\n\\\n",
    "EOF\"\n",
    "\n",
    "os.makedirs(dest_path, exist_ok=True)\n",
    "subprocess.check_output(cmd_line, shell=True)"
   ]
  },
  {
   "cell_type": "markdown",
   "metadata": {},
   "source": [
    "b'Submitted batch job 13470965\\n'"
   ]
  },
  {
   "cell_type": "code",
   "execution_count": 3,
   "metadata": {},
   "outputs": [
    {
     "data": {
      "text/plain": [
       "b'Submitted batch job 13475871\\n'"
      ]
     },
     "execution_count": 3,
     "metadata": {},
     "output_type": "execute_result"
    }
   ],
   "source": [
    "# prep for STAR and RSEM genome generation -- for RSEM, genome .fa and annotation .gtf files must be decompressed already\n",
    "\n",
    "import os\n",
    "import subprocess\n",
    "\n",
    "root_path = \"/labs/mbarna/users/adelexu/rptranscriptomics/genomes/gencode.v22_ERCC/\"\n",
    "fa_path = \"GRCh38.primary_assembly.genome_ERCC92.fa.gz\"\n",
    "gtf_path = \"gencode.v22.primary_assembly.annotation_ERCC92.gtf.gz\"\n",
    "\n",
    "job_name = \"gunzip_gencode_ercc\"\n",
    "job_time = \"0:30:0\"\n",
    "job_mem = \"1G\"\n",
    "shell_code = f\"gunzip {os.path.join(root_path, fa_path)}\\n\\\n",
    "gunzip {os.path.join(root_path, gtf_path)}\"\n",
    "\n",
    "sbatch_defaults = \"--error=%x-%j.e --output=%x-%j.o --account=mbarna --partition=batch\"\n",
    "\n",
    "cmd_line=f\"sbatch \\\n",
    "--chdir={root_path} \\\n",
    "--job-name={job_name} \\\n",
    "{sbatch_defaults} \\\n",
    "--time={job_time} \\\n",
    "--mem={job_mem} <<EOF \\n\\\n",
    "#!/bin/sh \\n\\\n",
    "{shell_code}\\n\\\n",
    "EOF\"\n",
    "\n",
    "subprocess.check_output(cmd_line, shell=True)"
   ]
  },
  {
   "cell_type": "markdown",
   "metadata": {},
   "source": [
    "b'Submitted batch job 13475871\\n'"
   ]
  },
  {
   "cell_type": "code",
   "execution_count": 2,
   "metadata": {},
   "outputs": [
    {
     "name": "stdout",
     "output_type": "stream",
     "text": [
      "b'Submitted batch job 13485652\\n'\n"
     ]
    }
   ],
   "source": [
    "''' copied and modified STAR_RSEM_prep.py from \n",
    "https://github.com/kundajelab/mesoderm/blob/master/RNA-seq/STAR_RSEM_prep.py, \n",
    "commit 1d3909b251d3841306f77d5fa9a3b86ba803ff7e\n",
    "\n",
    "changes:\n",
    "- appropriate file paths\n",
    "- Python 3 f-strings \n",
    "- submit each shell command as an sbatch job\n",
    "- specify correct versions of STAR and RSEM when loading modules'''\n",
    "\n",
    "# This file prepares genomes for STAR v2.4 and RSEM v1.2.21.\n",
    "# TO USE: Replace paths.\n",
    "\n",
    "# Modified from https://github.com/ENCODE-DCC/long-rna-seq-pipeline/blob/master/DAC/STAR_RSEM_prep.sh\n",
    "# Commit 313830c7c10e8567091131c40bdec2b9477627e0\n",
    "\n",
    "import os\n",
    "import subprocess\n",
    "\n",
    "root_path = \"/labs/mbarna/users/adelexu/rptranscriptomics/genomes/gencode.v22_ERCC/\"\n",
    "\n",
    "# STAR genome directory\n",
    "STARgenomeDir = os.path.join(root_path, \"STAR_genome\")\n",
    "os.makedirs(STARgenomeDir, exist_ok=True)\n",
    "\n",
    "# RSEM genome directory\n",
    "RSEMgenomeDir = os.path.join(root_path, \"RSEM_genome\")\n",
    "RSEMoutprefix = os.path.join(RSEMgenomeDir, \"RSEM_genome\")\n",
    "os.makedirs(RSEMgenomeDir, exist_ok=True)\n",
    "\n",
    "# fasta file(s)\n",
    "fastaGenome = os.path.join(root_path, \"GRCh38.primary_assembly.genome_ERCC92.fa\")\n",
    "\n",
    "# all-inclusive gtf file\n",
    "gtf = os.path.join(root_path, \"gencode.v22.primary_assembly.annotation_ERCC92.gtf\")\n",
    "\n",
    "sbatch_defaults = \"--error=%x-%j.e --output=%x-%j.o --account=mbarna --partition=batch\"\n",
    "\n",
    "star_time=\"6:0:0\" #ran for 6:0:0 w/ 32 G on 2 CPUs, took 1.5 h on 2 CPUs and about 32G\n",
    "star_mem=\"32G\"\n",
    "star_cpus=\"2\"\n",
    "\n",
    "# generate STAR reference genome\n",
    "STAR_cmd_line=f\"sbatch \\\n",
    "--chdir={STARgenomeDir} \\\n",
    "--job-name=STAR_genome_gen \\\n",
    "{sbatch_defaults} \\\n",
    "--time={star_time} \\\n",
    "--mem={star_mem} \\\n",
    "--cpus-per-task={star_cpus} <<EOF \\n\\\n",
    "#!/bin/sh \\n\\\n",
    "module load STAR/2.4.1d \\n\\\n",
    "STAR --runMode genomeGenerate \\\n",
    "--genomeDir {STARgenomeDir} \\\n",
    "--genomeFastaFiles {fastaGenome} \\\n",
    "--sjdbGTFfile {gtf} \\\n",
    "--sjdbOverhang 100 --outFileNamePrefix {STARgenomeDir} --runThreadN {star_cpus} \\n\\\n",
    "EOF\"\n",
    "\n",
    "#print(subprocess.check_output(STAR_cmd_line, shell=True)) #only needed to re-run RSEM on most recent attempt\n",
    "\n",
    "rsem_time=\"1:0:0\" # previously ran for 6:0:0 w/ 32G on 2 CPUs, took ~2 min on 2 CPUs and about 1.5 G\n",
    "rsem_mem=\"4G\"\n",
    "rsem_cpus=\"1\"\n",
    "\n",
    "# RSEM-prepare-reference \n",
    "RSEM_cmd_line=f\"sbatch \\\n",
    "--chdir={RSEMgenomeDir} \\\n",
    "--job-name=RSEM_genome_gen \\\n",
    "{sbatch_defaults} \\\n",
    "--time={rsem_time} \\\n",
    "--mem={rsem_mem} \\\n",
    "--cpus-per-task={rsem_cpus} <<EOF \\n\\\n",
    "#!/bin/sh \\n\\\n",
    "module load rsem/1.2.21 \\n\\\n",
    "rsem-prepare-reference --gtf {gtf} {fastaGenome} {RSEMoutprefix} \\n\\\n",
    "EOF\"\n",
    "\n",
    "print(subprocess.check_output(RSEM_cmd_line, shell=True))"
   ]
  },
  {
   "cell_type": "markdown",
   "metadata": {},
   "source": [
    "Last STAR job: b'Submitted batch job 13477662\\n'\n",
    "Last RSEM job: not affected by the passage of time or changes in fashion\n",
    "\n",
    "Initially ran this w/ STAR/2.4.0g1 but later found out that the generated genome was incompatible w/ twopassMode, so had to delete all STAR and RSEM output and re-run w/ STAR/2.4.1d\n",
    "\n",
    "Didn't put RSEM files in right directory for some reason (instead of creating files in the RSEMgenomeDir it just uses that path as a suffix), but will manually move them -- fixed this in later run \n",
    "\n",
    "Outputs look reasonable for both STAR and RSEM.\n",
    "\n",
    "# Process pilot_hESC_1 via STAR and RSEM\n",
    "\n",
    "Again, modifying scripts from Pang Wei's Github. The README from run_STAR_RSEM.py says to run run_STAR_RSEM.py, which calls STAR_RSEM.sh. \n",
    "\n",
    "Looking at commit 1d3909b251d3841306f77d5fa9a3b86ba803ff7e for run_STAR_RSEM.py and STAR_RSEM.sh\n",
    "\n",
    "copy/pasted STAR_RSEM.sh from the Github into STAR_RSEM_original.sh in the rptranscriptomics repo, made a copy (STAR_RSEM_modified.sh) and will edit -- will need to edit so it loads modules appropriately. Will not change any of the STAR alignment parameters or RSEM quantification parameters for now, but may edit the STAR reporting parameters to get more information on multi-aligning reads.\n",
    "\n",
    "run_STAR_RSEM.py is mostly just input/output file management for STAR_RSEM.sh; will just handle that directly in this notebook for the pilot_hESC_1 dataset -- call sbatch on STAR_RSEM_modified.sh from this notebook"
   ]
  },
  {
   "cell_type": "code",
   "execution_count": 5,
   "metadata": {},
   "outputs": [
    {
     "name": "stdout",
     "output_type": "stream",
     "text": [
      "b'Submitted batch job 13488837\\n'\n"
     ]
    }
   ],
   "source": [
    "import os\n",
    "import subprocess\n",
    "\n",
    "sample_name = \"pilot_hESC_1\"\n",
    "working_dir = os.path.join(\"/labs/mbarna/users/adelexu/rptranscriptomics/post-STAR-RSEM\", sample_name)\n",
    "os.makedirs(working_dir, exist_ok=True)\n",
    "\n",
    "job_name = f\"{sample_name}_SR\"\n",
    "job_time = \"2:0:0\"\n",
    "job_mem = \"32G\"\n",
    "job_cpus = \"1\"\n",
    "\n",
    "script_path = \"/home/adelexu/research/rptranscriptomics/rptranscriptomics/STAR_RSEM_modified.sh\"\n",
    "read1_path = \"/labs/mbarna/users/adelexu/rptranscriptomics/post-skewer/pilot_hESC_1/SRR3439477_1_1M.fastq-trimmed.fastq.gz\"\n",
    "read2_path = \"/labs/mbarna/users/adelexu/rptranscriptomics/post-skewer/pilot_hESC_1/SRR3439477_2_1M.fastq-trimmed.fastq.gz\"\n",
    "STARgenomeDir = \"/labs/mbarna/users/adelexu/rptranscriptomics/genomes/gencode.v22_ERCC/STAR_genome\"\n",
    "RSEMoutprefix = \"/labs/mbarna/users/adelexu/rptranscriptomics/genomes/gencode.v22_ERCC/RSEM_genome/RSEM_genome\"\n",
    "dataType = \"str_PE\"\n",
    "nThreadsSTAR = job_cpus\n",
    "nThreadsRSEM = job_cpus\n",
    "\n",
    "sbatch_defaults = \"--error=%x-%j.e --output=%x-%j.o --account=mbarna --partition=batch\"\n",
    "\n",
    "cmd_line=f\"sbatch \\\n",
    "--chdir={working_dir} \\\n",
    "--job-name={job_name} \\\n",
    "{sbatch_defaults} \\\n",
    "--time={job_time} \\\n",
    "--mem={job_mem} \\\n",
    "--cpus-per-task={job_cpus} \\\n",
    "{script_path} {read1_path} {read2_path} {STARgenomeDir} {RSEMoutprefix} {dataType} {nThreadsSTAR} {nThreadsRSEM}\"\n",
    "\n",
    "print(subprocess.check_output(cmd_line, shell=True))"
   ]
  },
  {
   "cell_type": "markdown",
   "metadata": {},
   "source": [
    "b'Submitted batch job 13488837\\n'\n",
    "\n",
    "on first run, errored out b/c no such parameter as twopassMode in STAR/2.4.0g1, which I suspected b/c it wasn't in the manual. Evidently the STAR version must be a more recent one than reported in the paper -- instead of sticking with STAR/2.4.0g1, will just find the earliest STAR version that has this \"--twopassmode basic\" option..apparently that's STAR 2.4.1a 2015/04/17 according to release notes on Github...which may be what the authors meant in the first place. We actually don't have STAR/2.4.1a but we have STAR/2.4.1d; will use that instead -- fixed in STAR_RSEM_modified.sh. also, realized I should have been running this on the post-skewer fastq.gz files, not the fastq ones. fixed in above cell and re-ran.\n",
    "\n",
    "on run 13488837, still got error in pilot_hESC_1_SR-13488837.e:\n",
    "    mkdir: cannot create directory ‘Signal’: File exists\n",
    "but run seems to have continued and there is a Log.out file in Signal that was generated by STAR w/ no apparent errors. \n",
    "\n",
    "All other log files seem error-free and Quant.genes.results was created"
   ]
  },
  {
   "cell_type": "markdown",
   "metadata": {},
   "source": [
    "# Comparing to published analysis:\n",
    "\n",
    "downloaded bulk_tpm.csv from http://mitra.stanford.edu/kundaje/pangwei/mesoderm_data/RNA-seq/bulk_tpm.csv, a link I found in https://github.com/kundajelab/mesoderm/blob/master/RNA-seq/bulkDataViz.Rmd commit #34a5a2fc70d49911954346f64755f720911cb2e3. I believe this spreadsheet was collated from the RSEM output (after filtering out samples w/o enough uniquely mapped reads) using getExpr.py, which is also in the git repo. \n",
    "\n",
    "After that, bulkDataViz.Rmd is used to further filter the data and correct for batch effects\n",
    "\n",
    "this and a spreadsheet of sample metadata are stored in koh_sdata_2016"
   ]
  },
  {
   "cell_type": "markdown",
   "metadata": {},
   "source": [
    "# Compare pilot_hESC_1_1M to hESC_1 from downloaded bulk_tpm.csv"
   ]
  },
  {
   "cell_type": "code",
   "execution_count": 48,
   "metadata": {},
   "outputs": [
    {
     "name": "stdout",
     "output_type": "stream",
     "text": [
      "(60746, 7)\n"
     ]
    },
    {
     "data": {
      "text/html": [
       "<div>\n",
       "<style scoped>\n",
       "    .dataframe tbody tr th:only-of-type {\n",
       "        vertical-align: middle;\n",
       "    }\n",
       "\n",
       "    .dataframe tbody tr th {\n",
       "        vertical-align: top;\n",
       "    }\n",
       "\n",
       "    .dataframe thead th {\n",
       "        text-align: right;\n",
       "    }\n",
       "</style>\n",
       "<table border=\"1\" class=\"dataframe\">\n",
       "  <thead>\n",
       "    <tr style=\"text-align: right;\">\n",
       "      <th></th>\n",
       "      <th>gene_id</th>\n",
       "      <th>transcript_id(s)</th>\n",
       "      <th>length</th>\n",
       "      <th>effective_length</th>\n",
       "      <th>expected_count</th>\n",
       "      <th>TPM</th>\n",
       "      <th>FPKM</th>\n",
       "    </tr>\n",
       "  </thead>\n",
       "  <tbody>\n",
       "    <tr>\n",
       "      <td>0</td>\n",
       "      <td>ENSG00000000003.13</td>\n",
       "      <td>ENST00000373020.7,ENST00000494424.1,ENST000004...</td>\n",
       "      <td>2250.88</td>\n",
       "      <td>2020.44</td>\n",
       "      <td>31.0</td>\n",
       "      <td>68.41</td>\n",
       "      <td>51.81</td>\n",
       "    </tr>\n",
       "    <tr>\n",
       "      <td>1</td>\n",
       "      <td>ENSG00000000005.5</td>\n",
       "      <td>ENST00000373031.4,ENST00000485971.1</td>\n",
       "      <td>940.50</td>\n",
       "      <td>710.06</td>\n",
       "      <td>0.0</td>\n",
       "      <td>0.00</td>\n",
       "      <td>0.00</td>\n",
       "    </tr>\n",
       "    <tr>\n",
       "      <td>2</td>\n",
       "      <td>ENSG00000000419.11</td>\n",
       "      <td>ENST00000371582.7,ENST00000371584.7,ENST000003...</td>\n",
       "      <td>1074.69</td>\n",
       "      <td>844.24</td>\n",
       "      <td>9.0</td>\n",
       "      <td>47.53</td>\n",
       "      <td>36.00</td>\n",
       "    </tr>\n",
       "    <tr>\n",
       "      <td>3</td>\n",
       "      <td>ENSG00000000457.12</td>\n",
       "      <td>ENST00000367770.4,ENST00000367771.9,ENST000003...</td>\n",
       "      <td>6364.00</td>\n",
       "      <td>6133.56</td>\n",
       "      <td>3.0</td>\n",
       "      <td>2.18</td>\n",
       "      <td>1.65</td>\n",
       "    </tr>\n",
       "    <tr>\n",
       "      <td>4</td>\n",
       "      <td>ENSG00000000460.15</td>\n",
       "      <td>ENST00000286031.9,ENST00000359326.7,ENST000004...</td>\n",
       "      <td>3399.89</td>\n",
       "      <td>3169.45</td>\n",
       "      <td>6.0</td>\n",
       "      <td>8.44</td>\n",
       "      <td>6.39</td>\n",
       "    </tr>\n",
       "  </tbody>\n",
       "</table>\n",
       "</div>"
      ],
      "text/plain": [
       "              gene_id                                   transcript_id(s)  \\\n",
       "0  ENSG00000000003.13  ENST00000373020.7,ENST00000494424.1,ENST000004...   \n",
       "1   ENSG00000000005.5                ENST00000373031.4,ENST00000485971.1   \n",
       "2  ENSG00000000419.11  ENST00000371582.7,ENST00000371584.7,ENST000003...   \n",
       "3  ENSG00000000457.12  ENST00000367770.4,ENST00000367771.9,ENST000003...   \n",
       "4  ENSG00000000460.15  ENST00000286031.9,ENST00000359326.7,ENST000004...   \n",
       "\n",
       "    length  effective_length  expected_count    TPM   FPKM  \n",
       "0  2250.88           2020.44            31.0  68.41  51.81  \n",
       "1   940.50            710.06             0.0   0.00   0.00  \n",
       "2  1074.69            844.24             9.0  47.53  36.00  \n",
       "3  6364.00           6133.56             3.0   2.18   1.65  \n",
       "4  3399.89           3169.45             6.0   8.44   6.39  "
      ]
     },
     "execution_count": 48,
     "metadata": {},
     "output_type": "execute_result"
    }
   ],
   "source": [
    "pilot_file = \"/labs/mbarna/users/adelexu/rptranscriptomics/post-STAR-RSEM/pilot_hESC_1/Quant.genes.results\"\n",
    "ref_file = \"/labs/mbarna/users/adelexu/rptranscriptomics/koh_sdata_2016/bulk_tpm.csv\"\n",
    "\n",
    "import pandas as pd\n",
    "\n",
    "pilot_df = pd.read_csv(pilot_file, sep='\\t')\n",
    "ref_df = pd.read_csv(ref_file, sep=',')\n",
    "ref_df.rename(columns={'geneID':'gene_id'}, inplace=True)\n",
    "\n",
    "print(pilot_df.shape)\n",
    "\n",
    "pilot_df.head()"
   ]
  },
  {
   "cell_type": "code",
   "execution_count": 49,
   "metadata": {},
   "outputs": [
    {
     "name": "stdout",
     "output_type": "stream",
     "text": [
      "(60575, 35)\n"
     ]
    },
    {
     "data": {
      "text/html": [
       "<div>\n",
       "<style scoped>\n",
       "    .dataframe tbody tr th:only-of-type {\n",
       "        vertical-align: middle;\n",
       "    }\n",
       "\n",
       "    .dataframe tbody tr th {\n",
       "        vertical-align: top;\n",
       "    }\n",
       "\n",
       "    .dataframe thead th {\n",
       "        text-align: right;\n",
       "    }\n",
       "</style>\n",
       "<table border=\"1\" class=\"dataframe\">\n",
       "  <thead>\n",
       "    <tr style=\"text-align: right;\">\n",
       "      <th></th>\n",
       "      <th>geneSymbol</th>\n",
       "      <th>gene_id</th>\n",
       "      <th>APS_1</th>\n",
       "      <th>APS_2</th>\n",
       "      <th>APS_3</th>\n",
       "      <th>D2LtM_1</th>\n",
       "      <th>D2LtM_2</th>\n",
       "      <th>D3EarlySmt_1</th>\n",
       "      <th>D3EarlySmt_2</th>\n",
       "      <th>D3GARPpCrdcM_1</th>\n",
       "      <th>...</th>\n",
       "      <th>MPS_1</th>\n",
       "      <th>MPS_2</th>\n",
       "      <th>MPS_3</th>\n",
       "      <th>MPS_4</th>\n",
       "      <th>Sclrtm_1</th>\n",
       "      <th>Sclrtm_2</th>\n",
       "      <th>Smt_1</th>\n",
       "      <th>Smt_2</th>\n",
       "      <th>Smt_3</th>\n",
       "      <th>Smt_4</th>\n",
       "    </tr>\n",
       "  </thead>\n",
       "  <tbody>\n",
       "    <tr>\n",
       "      <td>0</td>\n",
       "      <td>TSPAN6</td>\n",
       "      <td>ENSG00000000003.13</td>\n",
       "      <td>133.95</td>\n",
       "      <td>132.07</td>\n",
       "      <td>64.47</td>\n",
       "      <td>54.85</td>\n",
       "      <td>53.65</td>\n",
       "      <td>47.87</td>\n",
       "      <td>56.37</td>\n",
       "      <td>97.98</td>\n",
       "      <td>...</td>\n",
       "      <td>65.75</td>\n",
       "      <td>103.50</td>\n",
       "      <td>74.87</td>\n",
       "      <td>64.99</td>\n",
       "      <td>214.20</td>\n",
       "      <td>277.22</td>\n",
       "      <td>41.09</td>\n",
       "      <td>62.61</td>\n",
       "      <td>37.26</td>\n",
       "      <td>55.65</td>\n",
       "    </tr>\n",
       "    <tr>\n",
       "      <td>1</td>\n",
       "      <td>TNMD</td>\n",
       "      <td>ENSG00000000005.5</td>\n",
       "      <td>10.39</td>\n",
       "      <td>3.47</td>\n",
       "      <td>1.11</td>\n",
       "      <td>0.58</td>\n",
       "      <td>1.74</td>\n",
       "      <td>0.36</td>\n",
       "      <td>1.68</td>\n",
       "      <td>0.65</td>\n",
       "      <td>...</td>\n",
       "      <td>0.57</td>\n",
       "      <td>3.23</td>\n",
       "      <td>2.73</td>\n",
       "      <td>1.81</td>\n",
       "      <td>0.00</td>\n",
       "      <td>0.50</td>\n",
       "      <td>2.43</td>\n",
       "      <td>0.94</td>\n",
       "      <td>4.70</td>\n",
       "      <td>2.06</td>\n",
       "    </tr>\n",
       "    <tr>\n",
       "      <td>2</td>\n",
       "      <td>DPM1</td>\n",
       "      <td>ENSG00000000419.11</td>\n",
       "      <td>67.67</td>\n",
       "      <td>124.98</td>\n",
       "      <td>33.02</td>\n",
       "      <td>8.35</td>\n",
       "      <td>12.95</td>\n",
       "      <td>12.31</td>\n",
       "      <td>13.33</td>\n",
       "      <td>15.33</td>\n",
       "      <td>...</td>\n",
       "      <td>113.37</td>\n",
       "      <td>107.19</td>\n",
       "      <td>28.54</td>\n",
       "      <td>25.59</td>\n",
       "      <td>63.16</td>\n",
       "      <td>27.62</td>\n",
       "      <td>23.67</td>\n",
       "      <td>37.51</td>\n",
       "      <td>17.17</td>\n",
       "      <td>15.39</td>\n",
       "    </tr>\n",
       "    <tr>\n",
       "      <td>3</td>\n",
       "      <td>SCYL3</td>\n",
       "      <td>ENSG00000000457.12</td>\n",
       "      <td>2.59</td>\n",
       "      <td>1.40</td>\n",
       "      <td>2.61</td>\n",
       "      <td>5.03</td>\n",
       "      <td>4.70</td>\n",
       "      <td>2.98</td>\n",
       "      <td>3.71</td>\n",
       "      <td>5.52</td>\n",
       "      <td>...</td>\n",
       "      <td>3.04</td>\n",
       "      <td>2.59</td>\n",
       "      <td>3.98</td>\n",
       "      <td>3.57</td>\n",
       "      <td>3.76</td>\n",
       "      <td>5.54</td>\n",
       "      <td>3.16</td>\n",
       "      <td>4.65</td>\n",
       "      <td>3.89</td>\n",
       "      <td>4.03</td>\n",
       "    </tr>\n",
       "    <tr>\n",
       "      <td>4</td>\n",
       "      <td>C1orf112</td>\n",
       "      <td>ENSG00000000460.15</td>\n",
       "      <td>12.32</td>\n",
       "      <td>46.18</td>\n",
       "      <td>16.49</td>\n",
       "      <td>19.54</td>\n",
       "      <td>19.20</td>\n",
       "      <td>11.72</td>\n",
       "      <td>8.55</td>\n",
       "      <td>20.49</td>\n",
       "      <td>...</td>\n",
       "      <td>72.31</td>\n",
       "      <td>49.41</td>\n",
       "      <td>19.58</td>\n",
       "      <td>23.39</td>\n",
       "      <td>15.31</td>\n",
       "      <td>20.78</td>\n",
       "      <td>11.08</td>\n",
       "      <td>20.82</td>\n",
       "      <td>22.14</td>\n",
       "      <td>10.53</td>\n",
       "    </tr>\n",
       "  </tbody>\n",
       "</table>\n",
       "<p>5 rows × 35 columns</p>\n",
       "</div>"
      ],
      "text/plain": [
       "  geneSymbol             gene_id   APS_1   APS_2  APS_3  D2LtM_1  D2LtM_2  \\\n",
       "0     TSPAN6  ENSG00000000003.13  133.95  132.07  64.47    54.85    53.65   \n",
       "1       TNMD   ENSG00000000005.5   10.39    3.47   1.11     0.58     1.74   \n",
       "2       DPM1  ENSG00000000419.11   67.67  124.98  33.02     8.35    12.95   \n",
       "3      SCYL3  ENSG00000000457.12    2.59    1.40   2.61     5.03     4.70   \n",
       "4   C1orf112  ENSG00000000460.15   12.32   46.18  16.49    19.54    19.20   \n",
       "\n",
       "   D3EarlySmt_1  D3EarlySmt_2  D3GARPpCrdcM_1  ...   MPS_1   MPS_2  MPS_3  \\\n",
       "0         47.87         56.37           97.98  ...   65.75  103.50  74.87   \n",
       "1          0.36          1.68            0.65  ...    0.57    3.23   2.73   \n",
       "2         12.31         13.33           15.33  ...  113.37  107.19  28.54   \n",
       "3          2.98          3.71            5.52  ...    3.04    2.59   3.98   \n",
       "4         11.72          8.55           20.49  ...   72.31   49.41  19.58   \n",
       "\n",
       "   MPS_4  Sclrtm_1  Sclrtm_2  Smt_1  Smt_2  Smt_3  Smt_4  \n",
       "0  64.99    214.20    277.22  41.09  62.61  37.26  55.65  \n",
       "1   1.81      0.00      0.50   2.43   0.94   4.70   2.06  \n",
       "2  25.59     63.16     27.62  23.67  37.51  17.17  15.39  \n",
       "3   3.57      3.76      5.54   3.16   4.65   3.89   4.03  \n",
       "4  23.39     15.31     20.78  11.08  20.82  22.14  10.53  \n",
       "\n",
       "[5 rows x 35 columns]"
      ]
     },
     "execution_count": 49,
     "metadata": {},
     "output_type": "execute_result"
    }
   ],
   "source": [
    "print(ref_df.shape)\n",
    "ref_df.head()"
   ]
  },
  {
   "cell_type": "code",
   "execution_count": 50,
   "metadata": {},
   "outputs": [
    {
     "data": {
      "text/plain": [
       "count    171.000000\n",
       "mean       3.170526\n",
       "std       19.697488\n",
       "min        0.000000\n",
       "25%        0.000000\n",
       "50%        0.000000\n",
       "75%        0.000000\n",
       "max      129.810000\n",
       "Name: TPM, dtype: float64"
      ]
     },
     "execution_count": 50,
     "metadata": {},
     "output_type": "execute_result"
    }
   ],
   "source": [
    "gene_id_not_in_pilot = ref_df.gene_id[~(ref_df.gene_id.isin(pilot_df.gene_id))] #none\n",
    "gene_id_not_in_ref = pilot_df.loc[~(pilot_df.gene_id.isin(ref_df.gene_id))] #171 entries\n",
    "\n",
    "gene_id_not_in_ref.TPM.describe() #seem to be mostly undetected genes..."
   ]
  },
  {
   "cell_type": "code",
   "execution_count": 54,
   "metadata": {},
   "outputs": [
    {
     "name": "stdout",
     "output_type": "stream",
     "text": [
      "(60575, 3)\n"
     ]
    },
    {
     "data": {
      "text/html": [
       "<div>\n",
       "<style scoped>\n",
       "    .dataframe tbody tr th:only-of-type {\n",
       "        vertical-align: middle;\n",
       "    }\n",
       "\n",
       "    .dataframe tbody tr th {\n",
       "        vertical-align: top;\n",
       "    }\n",
       "\n",
       "    .dataframe thead th {\n",
       "        text-align: right;\n",
       "    }\n",
       "</style>\n",
       "<table border=\"1\" class=\"dataframe\">\n",
       "  <thead>\n",
       "    <tr style=\"text-align: right;\">\n",
       "      <th></th>\n",
       "      <th>gene_id</th>\n",
       "      <th>ref</th>\n",
       "      <th>pilot</th>\n",
       "    </tr>\n",
       "  </thead>\n",
       "  <tbody>\n",
       "    <tr>\n",
       "      <td>0</td>\n",
       "      <td>ENSG00000000003.13</td>\n",
       "      <td>77.13</td>\n",
       "      <td>68.41</td>\n",
       "    </tr>\n",
       "    <tr>\n",
       "      <td>1</td>\n",
       "      <td>ENSG00000000005.5</td>\n",
       "      <td>0.73</td>\n",
       "      <td>0.00</td>\n",
       "    </tr>\n",
       "    <tr>\n",
       "      <td>2</td>\n",
       "      <td>ENSG00000000419.11</td>\n",
       "      <td>71.86</td>\n",
       "      <td>47.53</td>\n",
       "    </tr>\n",
       "    <tr>\n",
       "      <td>3</td>\n",
       "      <td>ENSG00000000457.12</td>\n",
       "      <td>2.60</td>\n",
       "      <td>2.18</td>\n",
       "    </tr>\n",
       "    <tr>\n",
       "      <td>4</td>\n",
       "      <td>ENSG00000000460.15</td>\n",
       "      <td>32.00</td>\n",
       "      <td>8.44</td>\n",
       "    </tr>\n",
       "  </tbody>\n",
       "</table>\n",
       "</div>"
      ],
      "text/plain": [
       "              gene_id    ref  pilot\n",
       "0  ENSG00000000003.13  77.13  68.41\n",
       "1   ENSG00000000005.5   0.73   0.00\n",
       "2  ENSG00000000419.11  71.86  47.53\n",
       "3  ENSG00000000457.12   2.60   2.18\n",
       "4  ENSG00000000460.15  32.00   8.44"
      ]
     },
     "execution_count": 54,
     "metadata": {},
     "output_type": "execute_result"
    }
   ],
   "source": [
    "comb_df = ref_df[['gene_id', 'H7hESC_1']].merge(pilot_df[['gene_id','TPM']], how='inner', on='gene_id')\n",
    "comb_df.columns = ['gene_id', 'ref', 'pilot']\n",
    "print(comb_df.shape)\n",
    "comb_df.head()"
   ]
  },
  {
   "cell_type": "code",
   "execution_count": 61,
   "metadata": {},
   "outputs": [
    {
     "data": {
      "image/png": "[encoded data removed]",
      "text/plain": [
       "<Figure size 432x288 with 1 Axes>"
      ]
     },
     "metadata": {
      "needs_background": "light"
     },
     "output_type": "display_data"
    }
   ],
   "source": [
    "import matplotlib.pyplot as plt\n",
    "import numpy as np\n",
    "\n",
    "plt.scatter(np.log2(comb_df.ref.add(1)), np.log2(comb_df.pilot.add(1)))\n",
    "plt.xlabel('reference')\n",
    "plt.ylabel('pilot')\n",
    "plt.show()\n"
   ]
  },
  {
   "cell_type": "markdown",
   "metadata": {},
   "source": [
    "Well...at least there's a correlation. Quite surprised that even at 2^8 = 256 TPM in the reference, there are quite a few genes that go entirely undetected in the 1M read pilot. I'm going to run the 10M read to see how much of an improvement that is..."
   ]
  },
  {
   "cell_type": "markdown",
   "metadata": {},
   "source": [
    "# Run Skewer again on prev. skewered sample\n",
    "\n",
    "This should tell me whether that 11% trimmed is typical for a sample that's already been trimmed."
   ]
  },
  {
   "cell_type": "code",
   "execution_count": 63,
   "metadata": {},
   "outputs": [
    {
     "data": {
      "text/plain": [
       "b'Submitted batch job 13512694\\n'"
      ]
     },
     "execution_count": 63,
     "metadata": {},
     "output_type": "execute_result"
    }
   ],
   "source": [
    "# run Skewer again\n",
    "# parameters copied from Sci Data paper (for bulk RNA-seq) except added --compress option and ran on 1 core instead of 16\n",
    "\n",
    "import os\n",
    "import subprocess\n",
    "\n",
    "os.makedirs(\"/labs/mbarna/users/adelexu/rptranscriptomics/post-skewer2/pilot_hESC_1/\", exist_ok=True)\n",
    "\n",
    "subprocess.check_output(\"sbatch \\\n",
    "--chdir=/labs/mbarna/users/adelexu/rptranscriptomics/post-skewer2/pilot_hESC_1/ \\\n",
    "--job-name=skewer2_pilot_hESC_1 \\\n",
    "--error=%x-%j.e \\\n",
    "--output=%x-%j.o \\\n",
    "--account=mbarna \\\n",
    "--partition=batch \\\n",
    "--time=1:0:0 \\\n",
    "--mem=1G <<EOF \\n\\\n",
    "#!/bin/sh \\n\\\n",
    "/labs/mbarna/users/adelexu/bin/skewer-0.1.127-linux-x86_64 \\\n",
    "-x AGATCGGAAGAGCACACGTCTGAACTCCAGTCACNNNNNNATCTCGTATGCCGTCTTCTGCTTG \\\n",
    "-y AGATCGGAAGAGCGTCGTGTAGGGAAAGAGTGTAGATCTCGGTGGTCGCCGTATCATT \\\n",
    "-t 1 -q 21 -l 21 -n -u -f sanger -z -o /labs/mbarna/users/adelexu/rptranscriptomics/post-skewer2/pilot_hESC_1/SRR3439477_trimmed \\\n",
    "/labs/mbarna/users/adelexu/rptranscriptomics/post-skewer/pilot_hESC_1/SRR3439477_1_1M.fastq-trimmed.fastq.gz \\\n",
    "/labs/mbarna/users/adelexu/rptranscriptomics/post-skewer/pilot_hESC_1/SRR3439477_2_1M.fastq-trimmed.fastq.gz \\n\\\n",
    "\\\n",
    "EOF\", shell=True)"
   ]
  },
  {
   "cell_type": "markdown",
   "metadata": {},
   "source": [
    "This time the log file reads:\n",
    "\n",
    "    Tue Jan 14 23:42:38 2020 >> done (166.685s)\n",
    "    999991 read pairs processed; of these:\n",
    "         0 ( 0.00%) degenerative read pairs filtered out\n",
    "         0 ( 0.00%) undetermined read pairs filtered out by contaminant control\n",
    "         0 ( 0.00%) short read pairs filtered out after trimming by size control\n",
    "         0 ( 0.00%) empty read pairs filtered out after trimming by size control\n",
    "    999991 (100.00%) read pairs available; of these:\n",
    "       956 ( 0.10%) trimmed read pairs available after processing\n",
    "    999035 (99.90%) untrimmed read pairs available after processing\n",
    "\n",
    "So I guess the first trim was real...guess I'll be doing it for all the 10M read samples then."
   ]
  },
  {
   "cell_type": "markdown",
   "metadata": {},
   "source": [
    "# dev run_skewer.py"
   ]
  },
  {
   "cell_type": "code",
   "execution_count": 18,
   "metadata": {},
   "outputs": [
    {
     "name": "stdout",
     "output_type": "stream",
     "text": [
      "['Sclrtm_3', 'MPS_4', 'APS_2', 'foo', 'APS_1', 'MPS_3', 'Drmmtm_1', 'Sclrtm_2', 'CM_2', 'Smt_1', 'hESC_3', 'LtM_1', 'nonPXM_2', 'MPS_1', 'MPS_2', 'Drmmtm_4', 'Smt_2', 'hESC_2', 'Smt_3', 'bar', 'Smt_5', 'Smt_4', 'hESC_1', 'LtM_2', 'APS_3', 'PXM_1', 'pilot_hESC_1', 'nonPXM_1', 'PXM_2', 'Smt_6', 'PXM_3', 'Drmmtm_2', 'hESC_4', 'Sclrtm_1', 'Drmmtm_3', 'CM_1']\n",
      "36\n",
      "['Sclrtm_3', 'MPS_4', 'APS_2', 'APS_1', 'MPS_3', 'Drmmtm_1', 'Sclrtm_2', 'CM_2', 'Smt_1', 'hESC_3', 'LtM_1', 'nonPXM_2', 'MPS_1', 'MPS_2', 'Drmmtm_4', 'Smt_2', 'hESC_2', 'Smt_3', 'Smt_5', 'Smt_4', 'hESC_1', 'LtM_2', 'APS_3', 'PXM_1', 'nonPXM_1', 'PXM_2', 'Smt_6', 'PXM_3', 'Drmmtm_2', 'hESC_4', 'Sclrtm_1', 'Drmmtm_3', 'CM_1']\n",
      "33\n"
     ]
    }
   ],
   "source": [
    "import os\n",
    "import subprocess\n",
    "import argparse\n",
    "import glob\n",
    "import json\n",
    "\n",
    "parser = argparse.ArgumentParser(description=\"Run Skewer on all .fastq.gz files found in subdirectories of directory provided.\")\n",
    "parser.add_argument('--fastq_dir')\n",
    "parser.add_argument('--out_dir')\n",
    "parser.add_argument('--log_dir')\n",
    "parser.add_argument(\"--sb_name\")\n",
    "parser.add_argument(\"--sb_time\", default = \"1:0:0\")\n",
    "parser.add_argument(\"--sb_mem\", default = \"1G\")\n",
    "parser.add_argument(\"--sb_cpus\", default = \"1\")\n",
    "parser.add_argument(\"--exclude\", nargs=argparse.REMAINDER)\n",
    "args = parser.parse_args('--fastq_dir /labs/mbarna/users/adelexu/rptranscriptomics/fastq \\\n",
    "--out_dir /labs/mbarna/users/adelexu/rptranscriptomics/post-skewer \\\n",
    "--log_dir /labs/mbarna/users/adelexu/rptranscriptomics/logs \\\n",
    "--sb_name 10M_skewer \\\n",
    "--exclude pilot_hESC_1 foo bar'.split())\n",
    "\n",
    "# make sure output and log directories exist\n",
    "os.makedirs(args.out_dir, exist_ok=True)\n",
    "os.makedirs(args.log_dir, exist_ok=True)\n",
    "\n",
    "sample = next(os.walk(args.fastq_dir))[1]\n",
    "\n",
    "print(sample)\n",
    "print(len(sample))\n",
    "\n",
    "#exclude the pilot\n",
    "sample = [s for s in sample if s not in args.exclude]\n",
    "\n",
    "print(sample)\n",
    "print(len(sample))\n",
    "\n",
    "skewer_path = \"/labs/mbarna/users/adelexu/bin/skewer-0.1.127-linux-x86_64\"\n",
    "adapter1 = \"AGATCGGAAGAGCACACGTCTGAACTCCAGTCACNNNNNNATCTCGTATGCCGTCTTCTGCTTG\"\n",
    "adapter2 = \"AGATCGGAAGAGCGTCGTGTAGGGAAAGAGTGTAGATCTCGGTGGTCGCCGTATCATT\"\n",
    "\n",
    "sb_defaults = \"-e %x-%j.e -o %x-%j.o -A mbarna -p batch\"\n",
    "\n",
    "# for each sample, make output subdirectory and call skewer\n",
    "for smp in sample:\n",
    "    os.makedirs(os.path.join(args.out_dir, smp), exist_ok=True)\n",
    "    pair1 = glob.glob(os.path.join(args.fastq_dir, smp, \"*_1.fastq.gz\"))[0]\n",
    "    pair2 = glob.glob(os.path.join(args.fastq_dir, smp, \"*_2.fastq.gz\"))[0]\n",
    "    prefix = os.path.basename(pair1).replace(\"_1.fastq.gz\", \"\")\n",
    "    \n",
    "    sh_code = \"\\n\".join([f\"#!/bin/sh\",\n",
    "                         f\"{skewer_path} -x {adapter1} -y {adapter2} -t {args.sb_cpus} -q 21 -l 21 -n -u -f sanger -z -o {os.path.join(args.out_dir, smp, prefix)} {pair1} {pair2}\"])\n",
    "    \n",
    "    sb_cmd = f\"sbatch {sb_defaults} -D {args.log_dir} -J {smp}_{args.sb_name} -t {args.sb_time} --mem={args.sb_mem} -c {args.sb_cpus} <<EOF \\n{sh_code}\\nEOF\"\n",
    "\n",
    "    sb_sub_msg = subprocess.check_output(sb_cmd, shell=True).decode('ascii')\n",
    "    print(sb_sub_msg)\n",
    "    job_id = sb_sub_msg.strip().replace(\"Submitted batch job \", \"\")\n",
    " \n",
    "#    uncomment if running from command line\n",
    "#    with open(os.path.join(args.log_dir, f\"{smp}_{args.sb_name}_skewer_{job_id}.config\"), 'w') as config_file:\n",
    "#    git_version = str(subprocess.check_output(['git', 'rev-parse', 'HEAD']).strip())\n",
    "#    configs = {\"git version\": git_version, \"arguments\": vars(args), \"sbatch command line\": sb_cmd}\n",
    "#    json.dump(configs, config_file, indent=4)\n",
    "    \n",
    "    \n",
    "    "
   ]
  },
  {
   "cell_type": "markdown",
   "metadata": {},
   "source": [
    "note: when I executed the above, it failed on pilot_hESC_1 b/c there was no appropriately named sample, so I added the option to exclude samples"
   ]
  },
  {
   "cell_type": "code",
   "execution_count": 10,
   "metadata": {},
   "outputs": [
    {
     "data": {
      "text/plain": [
       "'/labs/mbarna/users/adelexu/rptranscriptomics/fastq/PXM_1/SRR3439472'"
      ]
     },
     "execution_count": 10,
     "metadata": {},
     "output_type": "execute_result"
    }
   ],
   "source": [
    "prefix"
   ]
  },
  {
   "cell_type": "markdown",
   "metadata": {},
   "source": [
    "# TODO\n",
    "* examine RSEM output for pilot_hESC_1 -- figure out if these TPM values are comparable or at least correlate w/ the hESC_1 column in the provided bulk_tpm, which will tell me if my whole pipeline is roughly accurate (note, this is a difference of 1M reads vs. ~40X that, so there may be some noise in low-expressed genes) -- figure out which genes overlap in the pilot_hESC_1 vs downloaded bulk_tpm.csv output, and make scatterplot \n",
    "* if pilot_hESC_1 looks OK, make scripts to run Skewer and STAR-RSEM on all the samples (10M reads each). Run once w/ all the same parameters as published, then start running w/ varied parameters\n",
    "* adapt getExpr.py to collect TPM values from the RSEM output for each sample\n",
    "* adapt bulkDataViz.Rmd to correct for batch effects\n",
    "\n",
    "* plot Naomi's proteomics data vs the gene expression values in the spreadsheet she sent -- this should replicate the analysis she did (for each RP gene, plot the gene expression values vs proteomics values for each of the cell types and calculate pearson & spearman correlation--may need to take log values for one or both axes)\n",
    "\n",
    "* plot the spreadsheet vs the published data to see how much they differ \n",
    "\n",
    "* if different, plot Naomi's proteomics data vs the published gene expression data\n",
    "\n",
    "# Various models of how RP pseudogenes might influence detected RP mRNA expression:\n",
    "\n",
    "Defining RP pseudogenes: can find all annotated RP pseudogenes by name or gene family, but could also find (and self-annotate) unannotated pseudogenes by searching for regions of genome w/ homology to exons of RPs\n",
    "\n",
    "how many pseudogenes are there for each RP gene, and how similar are they?\n",
    "\n",
    "<ol>\n",
    "    <li>RP pseudogenes aren't expressed at all, hence we should attribute any RP-like transcripts to parent gene. could achieve this by masking pseudogenes during alignment. note that if this results in many reads being attributed to the parent gene despite a number of consistent mismatches, it'll suggest that those reads should have been attributed elsewhere in the genome instead</li>\n",
    "    <li> \n",
    "\n",
    "* , and aligner is able to distinguish them -- this is unlikely; many pseudogenes are basically indistinguishable from the parent gene's nucleotide sequence"
   ]
  },
  {
   "cell_type": "code",
   "execution_count": null,
   "metadata": {},
   "outputs": [],
   "source": []
  },
  {
   "cell_type": "code",
   "execution_count": null,
   "metadata": {},
   "outputs": [],
   "source": []
  },
  {
   "cell_type": "code",
   "execution_count": null,
   "metadata": {},
   "outputs": [],
   "source": []
  }
 ],
 "metadata": {
  "kernelspec": {
   "display_name": "Python 3",
   "language": "python",
   "name": "python3"
  },
  "language_info": {
   "codemirror_mode": {
    "name": "ipython",
    "version": 3
   },
   "file_extension": ".py",
   "mimetype": "text/x-python",
   "name": "python",
   "nbconvert_exporter": "python",
   "pygments_lexer": "ipython3",
   "version": "3.7.4"
  }
 },
 "nbformat": 4,
 "nbformat_minor": 2
}
