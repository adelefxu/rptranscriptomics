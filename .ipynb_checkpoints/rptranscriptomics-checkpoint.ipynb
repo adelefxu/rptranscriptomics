{
 "cells": [
  {
   "cell_type": "markdown",
   "metadata": {},
   "source": [
    "# Goal\n",
    "\n",
    "Re-do alignment and gene expression quantification on published RNA-seq data from Kyle Loh's hESC --> mesoderm differentiation paper. This will allow us to compare the changes in RP <b>mRNA</b> levels during mesoderm differentiation to the changes in RP <b>protein</b> levels (the latter data comes from Naomi's work).\n",
    "\n",
    "\n",
    "# TODO\n",
    "<ol>\n",
    "    <li> Download at least 1 hESC dataset to use for piloting pipeline, using sra-toolkit </li>\n",
    "    <li> Find and download other relevant datasets (replicates for each stage of differentiation) -- limit to first 10M reads to speed up computation </li>\n",
    "    <li> Re-read and take notes on Kyle's paper on how they did their RNA-seq analysis. Did this a while ago (notes in Benchling) but need a refresher </li>\n"
   ]
  },
  {
   "cell_type": "markdown",
   "metadata": {},
   "source": [
    "# links & references\n",
    "\n",
    "main paper describing mesoderm differentiation, Cell 2016:\n",
    "https://www-sciencedirect-com.stanford.idm.oclc.org/science/article/pii/S0092867416307401\n",
    "\n",
    "main paper describing endoderm differentiation, Cell Stem Cell 2014:\n",
    "https://www-cell-com.stanford.idm.oclc.org/cell-stem-cell/fulltext/S1934-5909(13)00556-0\n",
    "\n",
    "paper specifically describing the mesoderm data, Scientific Data 2016:\n",
    "https://www-nature-com.stanford.idm.oclc.org/articles/sdata2016109\n",
    "\n",
    "All GEO entries associated w/ the Cell 2016 mesoderm paper SRP073808:\n",
    "https://www.ncbi.nlm.nih.gov//sra/?holding=F1000&otool=stanford&term=SRP073808\n",
    "\n",
    "All 5 runs of h7 hESC bulk RNA-seq (to use for piloting pipelines):\n",
    "https://www.ncbi.nlm.nih.gov/sra/SRX1725562[accn]\n",
    "\n",
    "Previous notes on Benchling: \n",
    "https://benchling.com/s/etr-xvYly9LylZJSn2Vay4eh\n",
    "\n",
    "Previous notes on Google Doc:\n",
    "https://docs.google.com/document/d/1HzouixEdGyJMMzsg9SNA2v_kKXIRD68kfcbyexAajAg/edit#"
   ]
  },
  {
   "cell_type": "markdown",
   "metadata": {},
   "source": [
    "# Recap of previous work\n",
    "\n",
    "Documented __[here](https://benchling.com/s/etr-xvYly9LylZJSn2Vay4eh)__ and __[here](https://docs.google.com/document/d/1HzouixEdGyJMMzsg9SNA2v_kKXIRD68kfcbyexAajAg/edit?usp=sharing)__\n",
    "\n",
    "\n",
    "        "
   ]
  },
  {
   "cell_type": "markdown",
   "metadata": {},
   "source": [
    "# NRG's gene expression spreadsheet vs. published\n",
    "\n",
    "How was the gene expression data that Naomi emailed me actually obtained \"Copy of Eleven way mesoderm RNA-seq table (Jan 29 2015)_orig\"?\n",
    "- name of tab in spreadsheet indicates it's in FPKM, whereas the paper methods use units of log(TPM+1) and I think the processed data they published is in TPM as well? \n",
    "- she said once that they aligned to a reference transcriptome, but paper methods say they used ENCODE long read pipeline and hg38. ENCODE pipeline uses STAR, which AFAIK only accepts reference genomes, not transcriptomes. \n",
    "- several RP pseudogenes are included as genes; their expression level is generally very low (< 100 in whatever units these are) compared to canonical RPs (in the 1000s)"
   ]
  },
  {
   "cell_type": "markdown",
   "metadata": {},
   "source": [
    "# Downloading raw data\n",
    "\n",
    "Found this script in a directory for an old project:\n",
    "\n",
    "```bash\n",
    "#!/bin/bash -l\n",
    "#\n",
    "#SBATCH -J fastq-dump\n",
    "#SBATCH -o fastq-dump.o\n",
    "#SBATCH -e fastq-dump.e\n",
    "#\n",
    "#SBATCH --mail-user adelexu@stanford.edu\n",
    "#SBATCH --mail-type=ALL\n",
    "#\n",
    "#SBATCH -t 96:0:0\n",
    "#SBATCH -A mbarna\n",
    "#SBATCH --mem=8G\n",
    "#\n",
    "# options for partition are batch, interactive, or nih_s10\n",
    "#SBATCH -p batch\n",
    "\n",
    "#to run: sbatch sbatch.fastq-dump.10M.sh /path/to/destination/directory SRR0000000\n",
    "\n",
    "module load sratoolkit/2.9.0\n",
    "\n",
    "fastq-dump -I -X 10000000 --split-files -O $1 $2\n",
    "```\n",
    "\n",
    "I think I can use this safely; previously I had issues where SRA was saving huge .sra files for each fastq-dump to /home/adelexu, which has a very limited quota. Sysadmin told me to set up a symlink to trick SRA into saving into a directory on /labs/mbarna/users/adelexu, which is still there. Command for doing so was `mv $HOME/ncbi /labs/mbarna/users/adelexu/ && ln -s /labs/mbarna/users/adelexu/ncbi $HOME/ncbi`\n",
    "\n",
    "The `--gzip` option allows me to dump directly as .gz file, which is useful. \n",
    "\n",
    "Will try calling this on just one SRR for one of the h7 hESC samples, and then come up w/ a Python wrapper to submit one of these jobs for each sample I want."
   ]
  },
  {
   "cell_type": "code",
   "execution_count": null,
   "metadata": {},
   "outputs": [],
   "source": []
  }
 ],
 "metadata": {
  "kernelspec": {
   "display_name": "Python 3",
   "language": "python",
   "name": "python3"
  },
  "language_info": {
   "codemirror_mode": {
    "name": "ipython",
    "version": 3
   },
   "file_extension": ".py",
   "mimetype": "text/x-python",
   "name": "python",
   "nbconvert_exporter": "python",
   "pygments_lexer": "ipython3",
   "version": "3.7.4"
  }
 },
 "nbformat": 4,
 "nbformat_minor": 2
}
